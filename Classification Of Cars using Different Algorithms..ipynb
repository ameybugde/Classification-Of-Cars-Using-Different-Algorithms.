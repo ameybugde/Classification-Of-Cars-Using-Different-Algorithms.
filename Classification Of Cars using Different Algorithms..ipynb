{
 "cells": [
  {
   "cell_type": "markdown",
   "metadata": {},
   "source": [
    "# Decision Tree & Ensemble Modelling."
   ]
  },
  {
   "cell_type": "code",
   "execution_count": 1,
   "metadata": {},
   "outputs": [],
   "source": [
    "import pandas as pd\n",
    "import numpy as np"
   ]
  },
  {
   "cell_type": "markdown",
   "metadata": {},
   "source": [
    "### Creating The New Data Frame"
   ]
  },
  {
   "cell_type": "code",
   "execution_count": 2,
   "metadata": {},
   "outputs": [
    {
     "data": {
      "text/html": [
       "<div>\n",
       "<style scoped>\n",
       "    .dataframe tbody tr th:only-of-type {\n",
       "        vertical-align: middle;\n",
       "    }\n",
       "\n",
       "    .dataframe tbody tr th {\n",
       "        vertical-align: top;\n",
       "    }\n",
       "\n",
       "    .dataframe thead th {\n",
       "        text-align: right;\n",
       "    }\n",
       "</style>\n",
       "<table border=\"1\" class=\"dataframe\">\n",
       "  <thead>\n",
       "    <tr style=\"text-align: right;\">\n",
       "      <th></th>\n",
       "      <th>0</th>\n",
       "      <th>1</th>\n",
       "      <th>2</th>\n",
       "      <th>3</th>\n",
       "      <th>4</th>\n",
       "      <th>5</th>\n",
       "      <th>6</th>\n",
       "    </tr>\n",
       "  </thead>\n",
       "  <tbody>\n",
       "    <tr>\n",
       "      <th>0</th>\n",
       "      <td>vhigh</td>\n",
       "      <td>vhigh</td>\n",
       "      <td>2</td>\n",
       "      <td>2</td>\n",
       "      <td>small</td>\n",
       "      <td>low</td>\n",
       "      <td>unacc</td>\n",
       "    </tr>\n",
       "    <tr>\n",
       "      <th>1</th>\n",
       "      <td>vhigh</td>\n",
       "      <td>vhigh</td>\n",
       "      <td>2</td>\n",
       "      <td>2</td>\n",
       "      <td>small</td>\n",
       "      <td>med</td>\n",
       "      <td>unacc</td>\n",
       "    </tr>\n",
       "    <tr>\n",
       "      <th>2</th>\n",
       "      <td>vhigh</td>\n",
       "      <td>vhigh</td>\n",
       "      <td>2</td>\n",
       "      <td>2</td>\n",
       "      <td>small</td>\n",
       "      <td>high</td>\n",
       "      <td>unacc</td>\n",
       "    </tr>\n",
       "    <tr>\n",
       "      <th>3</th>\n",
       "      <td>vhigh</td>\n",
       "      <td>vhigh</td>\n",
       "      <td>2</td>\n",
       "      <td>2</td>\n",
       "      <td>med</td>\n",
       "      <td>low</td>\n",
       "      <td>unacc</td>\n",
       "    </tr>\n",
       "    <tr>\n",
       "      <th>4</th>\n",
       "      <td>vhigh</td>\n",
       "      <td>vhigh</td>\n",
       "      <td>2</td>\n",
       "      <td>2</td>\n",
       "      <td>med</td>\n",
       "      <td>med</td>\n",
       "      <td>unacc</td>\n",
       "    </tr>\n",
       "  </tbody>\n",
       "</table>\n",
       "</div>"
      ],
      "text/plain": [
       "       0      1  2  3      4     5      6\n",
       "0  vhigh  vhigh  2  2  small   low  unacc\n",
       "1  vhigh  vhigh  2  2  small   med  unacc\n",
       "2  vhigh  vhigh  2  2  small  high  unacc\n",
       "3  vhigh  vhigh  2  2    med   low  unacc\n",
       "4  vhigh  vhigh  2  2    med   med  unacc"
      ]
     },
     "execution_count": 2,
     "metadata": {},
     "output_type": "execute_result"
    }
   ],
   "source": [
    "cars_data = pd.read_csv(r\"D:\\data science\\Python - Anaconda\\Decision Tree & Ensamble modeling\\cars.csv\",\n",
    "                       header = None)\n",
    "\n",
    "cars_data.head()"
   ]
  },
  {
   "cell_type": "code",
   "execution_count": 3,
   "metadata": {},
   "outputs": [
    {
     "name": "stdout",
     "output_type": "stream",
     "text": [
      "<class 'pandas.core.frame.DataFrame'>\n",
      "RangeIndex: 1728 entries, 0 to 1727\n",
      "Data columns (total 7 columns):\n",
      " #   Column  Non-Null Count  Dtype \n",
      "---  ------  --------------  ----- \n",
      " 0   0       1728 non-null   object\n",
      " 1   1       1728 non-null   object\n",
      " 2   2       1728 non-null   object\n",
      " 3   3       1728 non-null   object\n",
      " 4   4       1728 non-null   object\n",
      " 5   5       1728 non-null   object\n",
      " 6   6       1728 non-null   object\n",
      "dtypes: object(7)\n",
      "memory usage: 94.6+ KB\n"
     ]
    }
   ],
   "source": [
    "cars_data.shape\n",
    "cars_data.info()"
   ]
  },
  {
   "cell_type": "code",
   "execution_count": 4,
   "metadata": {},
   "outputs": [],
   "source": [
    "cars_data.columns = [\"buying\",\"maint\",\"doors\",\"persons\",\"lug_boot\",\"safety\",\"classes\"]"
   ]
  },
  {
   "cell_type": "code",
   "execution_count": 5,
   "metadata": {},
   "outputs": [
    {
     "data": {
      "text/html": [
       "<div>\n",
       "<style scoped>\n",
       "    .dataframe tbody tr th:only-of-type {\n",
       "        vertical-align: middle;\n",
       "    }\n",
       "\n",
       "    .dataframe tbody tr th {\n",
       "        vertical-align: top;\n",
       "    }\n",
       "\n",
       "    .dataframe thead th {\n",
       "        text-align: right;\n",
       "    }\n",
       "</style>\n",
       "<table border=\"1\" class=\"dataframe\">\n",
       "  <thead>\n",
       "    <tr style=\"text-align: right;\">\n",
       "      <th></th>\n",
       "      <th>buying</th>\n",
       "      <th>maint</th>\n",
       "      <th>doors</th>\n",
       "      <th>persons</th>\n",
       "      <th>lug_boot</th>\n",
       "      <th>safety</th>\n",
       "      <th>classes</th>\n",
       "    </tr>\n",
       "  </thead>\n",
       "  <tbody>\n",
       "    <tr>\n",
       "      <th>0</th>\n",
       "      <td>vhigh</td>\n",
       "      <td>vhigh</td>\n",
       "      <td>2</td>\n",
       "      <td>2</td>\n",
       "      <td>small</td>\n",
       "      <td>low</td>\n",
       "      <td>unacc</td>\n",
       "    </tr>\n",
       "    <tr>\n",
       "      <th>1</th>\n",
       "      <td>vhigh</td>\n",
       "      <td>vhigh</td>\n",
       "      <td>2</td>\n",
       "      <td>2</td>\n",
       "      <td>small</td>\n",
       "      <td>med</td>\n",
       "      <td>unacc</td>\n",
       "    </tr>\n",
       "    <tr>\n",
       "      <th>2</th>\n",
       "      <td>vhigh</td>\n",
       "      <td>vhigh</td>\n",
       "      <td>2</td>\n",
       "      <td>2</td>\n",
       "      <td>small</td>\n",
       "      <td>high</td>\n",
       "      <td>unacc</td>\n",
       "    </tr>\n",
       "    <tr>\n",
       "      <th>3</th>\n",
       "      <td>vhigh</td>\n",
       "      <td>vhigh</td>\n",
       "      <td>2</td>\n",
       "      <td>2</td>\n",
       "      <td>med</td>\n",
       "      <td>low</td>\n",
       "      <td>unacc</td>\n",
       "    </tr>\n",
       "    <tr>\n",
       "      <th>4</th>\n",
       "      <td>vhigh</td>\n",
       "      <td>vhigh</td>\n",
       "      <td>2</td>\n",
       "      <td>2</td>\n",
       "      <td>med</td>\n",
       "      <td>med</td>\n",
       "      <td>unacc</td>\n",
       "    </tr>\n",
       "  </tbody>\n",
       "</table>\n",
       "</div>"
      ],
      "text/plain": [
       "  buying  maint doors persons lug_boot safety classes\n",
       "0  vhigh  vhigh     2       2    small    low   unacc\n",
       "1  vhigh  vhigh     2       2    small    med   unacc\n",
       "2  vhigh  vhigh     2       2    small   high   unacc\n",
       "3  vhigh  vhigh     2       2      med    low   unacc\n",
       "4  vhigh  vhigh     2       2      med    med   unacc"
      ]
     },
     "execution_count": 5,
     "metadata": {},
     "output_type": "execute_result"
    }
   ],
   "source": [
    "cars_data.head()"
   ]
  },
  {
   "cell_type": "markdown",
   "metadata": {},
   "source": [
    "### Feature Selection."
   ]
  },
  {
   "cell_type": "code",
   "execution_count": 6,
   "metadata": {},
   "outputs": [],
   "source": [
    "# All the variables in the data are important for the classification.\n",
    "# Thus we have not removed any of the varibles."
   ]
  },
  {
   "cell_type": "markdown",
   "metadata": {},
   "source": [
    "### Handling the Missing Values."
   ]
  },
  {
   "cell_type": "code",
   "execution_count": 7,
   "metadata": {},
   "outputs": [
    {
     "data": {
      "text/plain": [
       "buying      0\n",
       "maint       0\n",
       "doors       0\n",
       "persons     0\n",
       "lug_boot    0\n",
       "safety      0\n",
       "classes     0\n",
       "dtype: int64"
      ]
     },
     "execution_count": 7,
     "metadata": {},
     "output_type": "execute_result"
    }
   ],
   "source": [
    "cars_data.isnull().sum()"
   ]
  },
  {
   "cell_type": "code",
   "execution_count": 8,
   "metadata": {},
   "outputs": [],
   "source": [
    "# Thus the data frame does not have any missing values."
   ]
  },
  {
   "cell_type": "markdown",
   "metadata": {},
   "source": [
    "### Handling the outliers."
   ]
  },
  {
   "cell_type": "code",
   "execution_count": 9,
   "metadata": {},
   "outputs": [],
   "source": [
    "# Decision Tree is robust to the outliers.\n",
    "# Thus in this algorithm we do not have to handle the outliers. "
   ]
  },
  {
   "cell_type": "markdown",
   "metadata": {},
   "source": [
    "### Converting categorical variable into numerical variable."
   ]
  },
  {
   "cell_type": "markdown",
   "metadata": {},
   "source": [
    "#### Making the second copy of the data type."
   ]
  },
  {
   "cell_type": "code",
   "execution_count": 10,
   "metadata": {},
   "outputs": [],
   "source": [
    "cars_df = pd.DataFrame.copy(cars_data)"
   ]
  },
  {
   "cell_type": "code",
   "execution_count": 11,
   "metadata": {},
   "outputs": [
    {
     "data": {
      "text/plain": [
       "Index(['buying', 'maint', 'doors', 'persons', 'lug_boot', 'safety', 'classes'], dtype='object')"
      ]
     },
     "execution_count": 11,
     "metadata": {},
     "output_type": "execute_result"
    }
   ],
   "source": [
    "colname = cars_df.columns\n",
    "colname"
   ]
  },
  {
   "cell_type": "code",
   "execution_count": 12,
   "metadata": {},
   "outputs": [],
   "source": [
    "#from sklearn.preprocessing import LabelEncoder\n",
    "\n",
    "#le = LabelEncoder()\n",
    "\n",
    "#for i in colname:\n",
    "#    cars_df[i] = le.fit_transform(cars_df[i])"
   ]
  },
  {
   "cell_type": "code",
   "execution_count": 13,
   "metadata": {},
   "outputs": [],
   "source": [
    "#cars_df.head()"
   ]
  },
  {
   "cell_type": "markdown",
   "metadata": {},
   "source": [
    "#### Now to understand what kind of encoding is done for what class we will use following code"
   ]
  },
  {
   "cell_type": "code",
   "execution_count": 14,
   "metadata": {},
   "outputs": [
    {
     "name": "stdout",
     "output_type": "stream",
     "text": [
      "Feature buying\n",
      "Mapping [('high', 0), ('low', 1), ('med', 2), ('vhigh', 3)]\n",
      "Feature maint\n",
      "Mapping [('high', 0), ('low', 1), ('med', 2), ('vhigh', 3)]\n",
      "Feature doors\n",
      "Mapping [('2', 0), ('3', 1), ('4', 2), ('5more', 3)]\n",
      "Feature persons\n",
      "Mapping [('2', 0), ('4', 1), ('more', 2)]\n",
      "Feature lug_boot\n",
      "Mapping [('big', 0), ('med', 1), ('small', 2)]\n",
      "Feature safety\n",
      "Mapping [('high', 0), ('low', 1), ('med', 2)]\n",
      "Feature classes\n",
      "Mapping [('acc', 0), ('good', 1), ('unacc', 2), ('vgood', 3)]\n"
     ]
    }
   ],
   "source": [
    "from sklearn.preprocessing import LabelEncoder\n",
    "\n",
    "le = LabelEncoder()\n",
    "\n",
    "for i in colname:\n",
    "    cars_df[i] = le.fit_transform(cars_df[i])\n",
    "    le_name_mapping = list(zip(le.classes_, le.transform(le.classes_)))\n",
    "    print(\"Feature\", i)\n",
    "    print(\"Mapping\", le_name_mapping)"
   ]
  },
  {
   "cell_type": "code",
   "execution_count": 15,
   "metadata": {},
   "outputs": [
    {
     "data": {
      "text/html": [
       "<div>\n",
       "<style scoped>\n",
       "    .dataframe tbody tr th:only-of-type {\n",
       "        vertical-align: middle;\n",
       "    }\n",
       "\n",
       "    .dataframe tbody tr th {\n",
       "        vertical-align: top;\n",
       "    }\n",
       "\n",
       "    .dataframe thead th {\n",
       "        text-align: right;\n",
       "    }\n",
       "</style>\n",
       "<table border=\"1\" class=\"dataframe\">\n",
       "  <thead>\n",
       "    <tr style=\"text-align: right;\">\n",
       "      <th></th>\n",
       "      <th>buying</th>\n",
       "      <th>maint</th>\n",
       "      <th>doors</th>\n",
       "      <th>persons</th>\n",
       "      <th>lug_boot</th>\n",
       "      <th>safety</th>\n",
       "      <th>classes</th>\n",
       "    </tr>\n",
       "  </thead>\n",
       "  <tbody>\n",
       "    <tr>\n",
       "      <th>0</th>\n",
       "      <td>3</td>\n",
       "      <td>3</td>\n",
       "      <td>0</td>\n",
       "      <td>0</td>\n",
       "      <td>2</td>\n",
       "      <td>1</td>\n",
       "      <td>2</td>\n",
       "    </tr>\n",
       "    <tr>\n",
       "      <th>1</th>\n",
       "      <td>3</td>\n",
       "      <td>3</td>\n",
       "      <td>0</td>\n",
       "      <td>0</td>\n",
       "      <td>2</td>\n",
       "      <td>2</td>\n",
       "      <td>2</td>\n",
       "    </tr>\n",
       "    <tr>\n",
       "      <th>2</th>\n",
       "      <td>3</td>\n",
       "      <td>3</td>\n",
       "      <td>0</td>\n",
       "      <td>0</td>\n",
       "      <td>2</td>\n",
       "      <td>0</td>\n",
       "      <td>2</td>\n",
       "    </tr>\n",
       "    <tr>\n",
       "      <th>3</th>\n",
       "      <td>3</td>\n",
       "      <td>3</td>\n",
       "      <td>0</td>\n",
       "      <td>0</td>\n",
       "      <td>1</td>\n",
       "      <td>1</td>\n",
       "      <td>2</td>\n",
       "    </tr>\n",
       "    <tr>\n",
       "      <th>4</th>\n",
       "      <td>3</td>\n",
       "      <td>3</td>\n",
       "      <td>0</td>\n",
       "      <td>0</td>\n",
       "      <td>1</td>\n",
       "      <td>2</td>\n",
       "      <td>2</td>\n",
       "    </tr>\n",
       "    <tr>\n",
       "      <th>...</th>\n",
       "      <td>...</td>\n",
       "      <td>...</td>\n",
       "      <td>...</td>\n",
       "      <td>...</td>\n",
       "      <td>...</td>\n",
       "      <td>...</td>\n",
       "      <td>...</td>\n",
       "    </tr>\n",
       "    <tr>\n",
       "      <th>1723</th>\n",
       "      <td>1</td>\n",
       "      <td>1</td>\n",
       "      <td>3</td>\n",
       "      <td>2</td>\n",
       "      <td>1</td>\n",
       "      <td>2</td>\n",
       "      <td>1</td>\n",
       "    </tr>\n",
       "    <tr>\n",
       "      <th>1724</th>\n",
       "      <td>1</td>\n",
       "      <td>1</td>\n",
       "      <td>3</td>\n",
       "      <td>2</td>\n",
       "      <td>1</td>\n",
       "      <td>0</td>\n",
       "      <td>3</td>\n",
       "    </tr>\n",
       "    <tr>\n",
       "      <th>1725</th>\n",
       "      <td>1</td>\n",
       "      <td>1</td>\n",
       "      <td>3</td>\n",
       "      <td>2</td>\n",
       "      <td>0</td>\n",
       "      <td>1</td>\n",
       "      <td>2</td>\n",
       "    </tr>\n",
       "    <tr>\n",
       "      <th>1726</th>\n",
       "      <td>1</td>\n",
       "      <td>1</td>\n",
       "      <td>3</td>\n",
       "      <td>2</td>\n",
       "      <td>0</td>\n",
       "      <td>2</td>\n",
       "      <td>1</td>\n",
       "    </tr>\n",
       "    <tr>\n",
       "      <th>1727</th>\n",
       "      <td>1</td>\n",
       "      <td>1</td>\n",
       "      <td>3</td>\n",
       "      <td>2</td>\n",
       "      <td>0</td>\n",
       "      <td>0</td>\n",
       "      <td>3</td>\n",
       "    </tr>\n",
       "  </tbody>\n",
       "</table>\n",
       "<p>1728 rows × 7 columns</p>\n",
       "</div>"
      ],
      "text/plain": [
       "      buying  maint  doors  persons  lug_boot  safety  classes\n",
       "0          3      3      0        0         2       1        2\n",
       "1          3      3      0        0         2       2        2\n",
       "2          3      3      0        0         2       0        2\n",
       "3          3      3      0        0         1       1        2\n",
       "4          3      3      0        0         1       2        2\n",
       "...      ...    ...    ...      ...       ...     ...      ...\n",
       "1723       1      1      3        2         1       2        1\n",
       "1724       1      1      3        2         1       0        3\n",
       "1725       1      1      3        2         0       1        2\n",
       "1726       1      1      3        2         0       2        1\n",
       "1727       1      1      3        2         0       0        3\n",
       "\n",
       "[1728 rows x 7 columns]"
      ]
     },
     "execution_count": 15,
     "metadata": {},
     "output_type": "execute_result"
    }
   ],
   "source": [
    "cars_df"
   ]
  },
  {
   "cell_type": "code",
   "execution_count": 16,
   "metadata": {},
   "outputs": [
    {
     "data": {
      "text/plain": [
       "2    1210\n",
       "0     384\n",
       "1      69\n",
       "3      65\n",
       "Name: classes, dtype: int64"
      ]
     },
     "execution_count": 16,
     "metadata": {},
     "output_type": "execute_result"
    }
   ],
   "source": [
    "cars_df.classes.value_counts()"
   ]
  },
  {
   "cell_type": "code",
   "execution_count": 17,
   "metadata": {},
   "outputs": [],
   "source": [
    "# For Dependent variable we need to know the encoding.\n",
    "\n",
    "# Thus for Classes\n",
    "# acc --> \"Accurate\" --> 0       --> 384\n",
    "# good --> 1                     --> 69\n",
    "# unacc --> unaccurate --> 2     --> 1210\n",
    "# vgood --> Very Good --> 3      --> 65"
   ]
  },
  {
   "cell_type": "markdown",
   "metadata": {},
   "source": [
    "### Create X & Y"
   ]
  },
  {
   "cell_type": "code",
   "execution_count": 18,
   "metadata": {},
   "outputs": [],
   "source": [
    "X = cars_df.values[:,:-1]\n",
    "Y = cars_df.values[:,-1]\n",
    "Y = Y.astype(int)"
   ]
  },
  {
   "cell_type": "code",
   "execution_count": 19,
   "metadata": {},
   "outputs": [],
   "source": [
    "# Now to check if X and Y have been created properly or not."
   ]
  },
  {
   "cell_type": "code",
   "execution_count": 20,
   "metadata": {},
   "outputs": [
    {
     "name": "stdout",
     "output_type": "stream",
     "text": [
      "[[3 3 0 0 2 1]\n",
      " [3 3 0 0 2 2]\n",
      " [3 3 0 0 2 0]\n",
      " ...\n",
      " [1 1 3 2 0 1]\n",
      " [1 1 3 2 0 2]\n",
      " [1 1 3 2 0 0]]\n"
     ]
    }
   ],
   "source": [
    "print(X)"
   ]
  },
  {
   "cell_type": "code",
   "execution_count": 21,
   "metadata": {},
   "outputs": [
    {
     "name": "stdout",
     "output_type": "stream",
     "text": [
      "[2 2 2 ... 2 1 3]\n"
     ]
    }
   ],
   "source": [
    "print(Y)"
   ]
  },
  {
   "cell_type": "markdown",
   "metadata": {},
   "source": [
    "### Scaling the data (X)"
   ]
  },
  {
   "cell_type": "code",
   "execution_count": 22,
   "metadata": {},
   "outputs": [],
   "source": [
    "from sklearn.preprocessing import StandardScaler\n",
    "\n",
    "scaler = StandardScaler()\n",
    "\n",
    "scaler.fit(X)\n",
    "\n",
    "X = scaler.transform(X)"
   ]
  },
  {
   "cell_type": "code",
   "execution_count": 23,
   "metadata": {},
   "outputs": [
    {
     "name": "stdout",
     "output_type": "stream",
     "text": [
      "[[ 1.34164079  1.34164079 -1.34164079 -1.22474487  1.22474487  0.        ]\n",
      " [ 1.34164079  1.34164079 -1.34164079 -1.22474487  1.22474487  1.22474487]\n",
      " [ 1.34164079  1.34164079 -1.34164079 -1.22474487  1.22474487 -1.22474487]\n",
      " ...\n",
      " [-0.4472136  -0.4472136   1.34164079  1.22474487 -1.22474487  0.        ]\n",
      " [-0.4472136  -0.4472136   1.34164079  1.22474487 -1.22474487  1.22474487]\n",
      " [-0.4472136  -0.4472136   1.34164079  1.22474487 -1.22474487 -1.22474487]]\n"
     ]
    }
   ],
   "source": [
    "# To check if data has been Scaled or not.\n",
    "print(X)"
   ]
  },
  {
   "cell_type": "markdown",
   "metadata": {},
   "source": [
    "### Spliting the data"
   ]
  },
  {
   "cell_type": "code",
   "execution_count": 24,
   "metadata": {},
   "outputs": [],
   "source": [
    "from sklearn.model_selection import train_test_split\n",
    "\n",
    "X_train, X_test, Y_train, Y_test = train_test_split(X,Y, test_size = 0.3, random_state = 10)"
   ]
  },
  {
   "cell_type": "code",
   "execution_count": 25,
   "metadata": {},
   "outputs": [
    {
     "name": "stdout",
     "output_type": "stream",
     "text": [
      "(1209, 6) (519, 6) (1209,) (519,)\n"
     ]
    }
   ],
   "source": [
    "# now to check if the split is successful or not?\n",
    "\n",
    "print(X_train.shape, X_test.shape, Y_train.shape, Y_test.shape)"
   ]
  },
  {
   "cell_type": "code",
   "execution_count": 26,
   "metadata": {},
   "outputs": [],
   "source": [
    "# From above shapes we can say that train and test split is successful."
   ]
  },
  {
   "cell_type": "markdown",
   "metadata": {},
   "source": [
    "### Building the Model"
   ]
  },
  {
   "cell_type": "code",
   "execution_count": 27,
   "metadata": {},
   "outputs": [
    {
     "data": {
      "text/plain": [
       "DecisionTreeClassifier(ccp_alpha=0.0, class_weight=None, criterion='gini',\n",
       "                       max_depth=None, max_features=None, max_leaf_nodes=None,\n",
       "                       min_impurity_decrease=0.0, min_impurity_split=None,\n",
       "                       min_samples_leaf=1, min_samples_split=2,\n",
       "                       min_weight_fraction_leaf=0.0, presort='deprecated',\n",
       "                       random_state=10, splitter='best')"
      ]
     },
     "execution_count": 27,
     "metadata": {},
     "output_type": "execute_result"
    }
   ],
   "source": [
    "from sklearn.tree import DecisionTreeClassifier\n",
    "\n",
    "# Create the model\n",
    "model_DecisionTree = DecisionTreeClassifier(criterion = \"gini\", random_state = 10)\n",
    "\n",
    "# Train the model\n",
    "model_DecisionTree.fit(X_train, Y_train)"
   ]
  },
  {
   "cell_type": "code",
   "execution_count": 28,
   "metadata": {},
   "outputs": [
    {
     "name": "stdout",
     "output_type": "stream",
     "text": [
      "[(2, 2), (2, 2), (2, 2), (2, 2), (1, 1), (2, 2), (0, 0), (0, 0), (2, 2), (0, 0), (2, 2), (2, 2), (2, 2), (2, 2), (0, 0), (0, 0), (2, 2), (2, 2), (2, 2), (2, 2), (2, 2), (2, 2), (2, 2), (2, 2), (2, 2), (2, 2), (2, 2), (0, 0), (2, 2), (2, 2), (2, 2), (2, 2), (2, 2), (0, 0), (2, 2), (2, 2), (2, 2), (2, 2), (2, 2), (0, 0), (2, 2), (2, 2), (2, 2), (3, 3), (2, 2), (0, 0), (2, 2), (2, 2), (2, 2), (2, 2), (2, 2), (0, 0), (1, 1), (3, 3), (1, 1), (2, 2), (0, 0), (2, 2), (0, 0), (2, 2), (2, 2), (2, 2), (2, 2), (3, 3), (2, 2), (2, 2), (0, 0), (0, 0), (2, 2), (2, 2), (3, 3), (2, 2), (2, 2), (2, 2), (1, 1), (2, 2), (0, 0), (3, 0), (2, 2), (2, 2), (2, 2), (2, 2), (2, 2), (2, 2), (2, 2), (2, 2), (2, 2), (0, 0), (2, 2), (0, 0), (2, 2), (2, 2), (2, 2), (2, 2), (2, 2), (2, 2), (2, 2), (2, 2), (2, 2), (2, 2), (2, 2), (2, 2), (2, 2), (2, 2), (0, 0), (2, 2), (2, 2), (2, 2), (2, 2), (2, 2), (2, 2), (2, 2), (2, 2), (2, 2), (0, 0), (2, 2), (2, 2), (1, 1), (2, 2), (2, 2), (2, 2), (2, 2), (2, 2), (2, 2), (0, 0), (2, 2), (2, 2), (2, 2), (2, 2), (2, 2), (2, 2), (2, 2), (2, 2), (2, 2), (0, 0), (2, 2), (2, 2), (3, 3), (2, 2), (2, 2), (0, 0), (2, 2), (0, 0), (3, 3), (2, 2), (2, 2), (2, 2), (2, 2), (2, 2), (2, 2), (2, 2), (2, 2), (3, 3), (2, 2), (2, 2), (2, 2), (2, 2), (2, 2), (1, 1), (1, 1), (2, 2), (0, 0), (2, 2), (2, 2), (2, 2), (2, 2), (2, 2), (2, 2), (2, 2), (2, 2), (2, 2), (1, 1), (2, 2), (3, 3), (2, 2), (2, 2), (2, 2), (2, 2), (0, 0), (0, 0), (2, 2), (2, 2), (2, 2), (2, 2), (3, 3), (2, 2), (0, 0), (2, 2), (1, 1), (0, 0), (2, 2), (2, 2), (2, 2), (2, 2), (0, 0), (3, 3), (0, 0), (0, 0), (2, 2), (2, 2), (2, 2), (2, 2), (0, 0), (2, 2), (2, 2), (2, 2), (2, 2), (2, 2), (2, 2), (2, 2), (3, 3), (0, 0), (2, 2), (2, 2), (2, 2), (3, 3), (2, 2), (2, 2), (1, 1), (2, 2), (2, 2), (2, 2), (2, 2), (2, 2), (2, 2), (2, 2), (0, 0), (2, 2), (2, 2), (2, 2), (2, 2), (2, 2), (0, 0), (0, 0), (2, 2), (2, 2), (2, 2), (2, 2), (3, 3), (2, 2), (2, 2), (0, 0), (2, 2), (0, 0), (2, 2), (0, 0), (2, 2), (2, 2), (2, 2), (2, 2), (2, 2), (0, 0), (2, 2), (2, 2), (2, 2), (0, 0), (2, 2), (2, 2), (0, 0), (2, 2), (2, 2), (2, 2), (0, 0), (2, 2), (2, 2), (2, 2), (0, 0), (2, 2), (2, 2), (0, 0), (2, 2), (2, 2), (2, 2), (1, 1), (1, 1), (2, 2), (2, 2), (2, 2), (0, 0), (0, 2), (2, 2), (0, 0), (3, 3), (3, 3), (0, 0), (2, 2), (0, 0), (2, 2), (2, 2), (2, 2), (3, 3), (2, 2), (2, 2), (0, 0), (2, 2), (2, 2), (2, 2), (2, 2), (2, 2), (0, 0), (2, 2), (2, 2), (2, 2), (3, 3), (2, 2), (2, 2), (2, 2), (0, 0), (2, 2), (2, 2), (2, 2), (2, 2), (0, 0), (0, 0), (2, 2), (2, 2), (1, 1), (2, 2), (2, 2), (2, 2), (0, 0), (2, 2), (2, 2), (0, 0), (0, 0), (2, 2), (0, 0), (0, 0), (2, 2), (2, 2), (0, 0), (0, 0), (2, 2), (2, 2), (2, 2), (2, 2), (2, 2), (0, 0), (2, 2), (2, 2), (2, 2), (0, 0), (2, 2), (2, 2), (2, 2), (2, 2), (2, 2), (2, 2), (2, 2), (2, 2), (1, 1), (3, 3), (3, 3), (2, 2), (2, 2), (2, 2), (2, 2), (0, 0), (2, 2), (2, 2), (2, 2), (3, 3), (2, 2), (2, 2), (1, 0), (2, 2), (1, 1), (2, 2), (2, 2), (2, 2), (0, 0), (0, 0), (2, 2), (2, 2), (2, 2), (2, 2), (2, 2), (2, 2), (2, 2), (0, 0), (2, 2), (0, 0), (1, 1), (2, 2), (2, 2), (2, 2), (2, 2), (2, 2), (0, 0), (2, 2), (2, 2), (3, 3), (0, 0), (0, 0), (0, 0), (0, 0), (2, 2), (0, 0), (2, 2), (2, 2), (2, 2), (0, 0), (0, 0), (2, 2), (0, 0), (2, 2), (1, 1), (0, 0), (2, 2), (2, 2), (0, 0), (2, 2), (2, 2), (2, 2), (0, 0), (1, 1), (2, 2), (0, 0), (0, 0), (2, 2), (0, 0), (2, 2), (2, 2), (2, 2), (2, 2), (2, 2), (2, 2), (2, 2), (2, 2), (2, 2), (2, 2), (2, 2), (2, 2), (0, 0), (2, 2), (2, 2), (3, 3), (2, 2), (2, 2), (2, 2), (2, 2), (0, 0), (2, 2), (2, 2), (2, 2), (0, 0), (2, 2), (2, 2), (2, 2), (0, 0), (2, 2), (2, 2), (2, 2), (0, 0), (2, 2), (2, 2), (0, 0), (3, 3), (2, 2), (2, 2), (2, 2), (2, 2), (1, 0), (2, 2), (2, 2), (2, 2), (2, 2), (2, 2), (2, 2), (0, 0), (2, 2), (0, 0), (2, 2), (0, 0), (2, 2), (2, 2), (2, 2), (2, 2), (0, 0), (2, 2), (2, 2), (2, 2), (2, 2), (2, 2), (2, 2), (2, 2), (2, 2), (2, 2), (1, 1), (2, 2), (2, 2), (2, 2), (2, 2), (2, 2), (0, 0), (0, 0), (2, 2), (2, 2), (2, 2), (0, 0), (2, 2), (2, 2), (2, 2), (2, 2), (2, 2), (0, 0), (2, 2), (0, 0), (2, 2), (2, 2), (0, 0), (2, 2), (0, 0), (2, 2), (2, 2), (2, 2), (3, 3), (2, 2), (0, 0)]\n"
     ]
    }
   ],
   "source": [
    "# predict using model\n",
    "Y_pred = model_DecisionTree.predict(X_test)\n",
    "print(list(zip(Y_test,Y_pred)))"
   ]
  },
  {
   "cell_type": "markdown",
   "metadata": {},
   "source": [
    "### Evaluating the model"
   ]
  },
  {
   "cell_type": "code",
   "execution_count": 29,
   "metadata": {},
   "outputs": [
    {
     "name": "stdout",
     "output_type": "stream",
     "text": [
      "Confusion Matrix = \n",
      "[[101   0   1   0]\n",
      " [  2  19   0   0]\n",
      " [  0   0 371   0]\n",
      " [  1   0   0  24]] \n",
      "\n",
      "Accuracy score =  0.9922928709055877 \n",
      "\n",
      "Classification Report = \n",
      "              precision    recall  f1-score   support\n",
      "\n",
      "           0       0.97      0.99      0.98       102\n",
      "           1       1.00      0.90      0.95        21\n",
      "           2       1.00      1.00      1.00       371\n",
      "           3       1.00      0.96      0.98        25\n",
      "\n",
      "    accuracy                           0.99       519\n",
      "   macro avg       0.99      0.96      0.98       519\n",
      "weighted avg       0.99      0.99      0.99       519\n",
      "\n"
     ]
    }
   ],
   "source": [
    "from sklearn.metrics import confusion_matrix, accuracy_score, classification_report\n",
    "\n",
    "print(\"Confusion Matrix = \")\n",
    "print(confusion_matrix(Y_test, Y_pred), \"\\n\")\n",
    "print(\"Accuracy score = \", accuracy_score(Y_test, Y_pred), \"\\n\")\n",
    "print(\"Classification Report = \")\n",
    "print(classification_report(Y_test, Y_pred))"
   ]
  },
  {
   "cell_type": "code",
   "execution_count": 30,
   "metadata": {},
   "outputs": [],
   "source": [
    "# Thus from above we can see that the model is giving 99.22% accuracy\n",
    "# Thus the model build is quit good."
   ]
  },
  {
   "cell_type": "markdown",
   "metadata": {},
   "source": [
    "### Plotting the Decision Tree Model."
   ]
  },
  {
   "cell_type": "code",
   "execution_count": 31,
   "metadata": {},
   "outputs": [],
   "source": [
    "from sklearn.tree import export_graphviz\n",
    "\n",
    "with open(r\"D:\\data science\\Python - Anaconda\\Decision Tree & Ensamble modeling\\model_DecisionTree.txt\", \"w\") as f:\n",
    "    f = export_graphviz(model_DecisionTree, feature_names = cars_df.columns[:-1], out_file = f)\n",
    "    \n",
    "# Generate the file and upload the code in the file on \"webgraphviz.com\" to plot the decision tree."
   ]
  },
  {
   "cell_type": "markdown",
   "metadata": {},
   "source": [
    "#### Lets find out the Feature Importance."
   ]
  },
  {
   "cell_type": "code",
   "execution_count": 32,
   "metadata": {},
   "outputs": [
    {
     "name": "stdout",
     "output_type": "stream",
     "text": [
      "[('buying', 0.1510848831946676), ('maint', 0.2506508516803624), ('doors', 0.060026331736828115), ('persons', 0.19355707150872045), ('lug_boot', 0.09892620952419463), ('safety', 0.2457546523552268)]\n"
     ]
    }
   ],
   "source": [
    "print(list(zip(cars_df.columns, model_DecisionTree.feature_importances_)))"
   ]
  },
  {
   "cell_type": "code",
   "execution_count": 33,
   "metadata": {},
   "outputs": [],
   "source": [
    "# Thus from above code we can see which feature or variable of the dataset is more important in predicting the classes."
   ]
  },
  {
   "cell_type": "markdown",
   "metadata": {},
   "source": [
    "#### Lets also find out the Basic Decision Tree model Depth."
   ]
  },
  {
   "cell_type": "code",
   "execution_count": 34,
   "metadata": {},
   "outputs": [
    {
     "data": {
      "text/plain": [
       "14"
      ]
     },
     "execution_count": 34,
     "metadata": {},
     "output_type": "execute_result"
    }
   ],
   "source": [
    "model_DecisionTree.get_depth()"
   ]
  },
  {
   "cell_type": "code",
   "execution_count": 35,
   "metadata": {},
   "outputs": [],
   "source": [
    "# Thus from above we can see that the total depth of the Decision Tree is equal to 14."
   ]
  },
  {
   "cell_type": "markdown",
   "metadata": {},
   "source": [
    "### Tunning the Model"
   ]
  },
  {
   "cell_type": "code",
   "execution_count": 36,
   "metadata": {},
   "outputs": [],
   "source": [
    "# Lets check and see what kind of results we get after tunning the Decision Tree. \n",
    "# Conditions to be put on Tunned Model:\n",
    "# 1) Max_depth of Decision Tree = 10\n",
    "# 2) Min_Sample_leaf = 5"
   ]
  },
  {
   "cell_type": "code",
   "execution_count": 37,
   "metadata": {},
   "outputs": [],
   "source": [
    "from sklearn.tree import DecisionTreeClassifier\n",
    "\n",
    "# Build the model\n",
    "model_tunn_DecisionTree = DecisionTreeClassifier(criterion = \"gini\", min_samples_leaf= 5, max_depth= 10, random_state = 10)\n",
    "\n",
    "# Train the model\n",
    "model_tunn_DecisionTree.fit(X_train, Y_train)\n",
    "\n",
    "# Predict using the model\n",
    "Y_pred = model_tunn_DecisionTree.predict(X_test)"
   ]
  },
  {
   "cell_type": "code",
   "execution_count": 38,
   "metadata": {},
   "outputs": [
    {
     "name": "stdout",
     "output_type": "stream",
     "text": [
      "[(2, 2), (2, 2), (2, 2), (2, 2), (1, 1), (2, 2), (0, 0), (0, 0), (2, 2), (0, 0), (2, 2), (2, 2), (2, 2), (2, 2), (0, 0), (0, 0), (2, 2), (2, 2), (2, 2), (2, 2), (2, 2), (2, 2), (2, 2), (2, 2), (2, 2), (2, 2), (2, 2), (0, 0), (2, 2), (2, 2), (2, 2), (2, 2), (2, 2), (0, 0), (2, 2), (2, 2), (2, 2), (2, 2), (2, 2), (0, 0), (2, 2), (2, 2), (2, 2), (3, 1), (2, 2), (0, 0), (2, 2), (2, 2), (2, 2), (2, 2), (2, 2), (0, 0), (1, 1), (3, 3), (1, 1), (2, 2), (0, 0), (2, 2), (0, 0), (2, 2), (2, 2), (2, 2), (2, 2), (3, 0), (2, 2), (2, 2), (0, 1), (0, 0), (2, 2), (2, 2), (3, 3), (2, 2), (2, 2), (2, 2), (1, 1), (2, 2), (0, 0), (3, 0), (2, 2), (2, 2), (2, 2), (2, 2), (2, 2), (2, 2), (2, 2), (2, 2), (2, 2), (0, 0), (2, 2), (0, 0), (2, 2), (2, 2), (2, 2), (2, 0), (2, 2), (2, 2), (2, 2), (2, 2), (2, 2), (2, 2), (2, 2), (2, 2), (2, 2), (2, 2), (0, 0), (2, 2), (2, 2), (2, 2), (2, 2), (2, 2), (2, 2), (2, 2), (2, 2), (2, 2), (0, 1), (2, 2), (2, 2), (1, 1), (2, 2), (2, 2), (2, 2), (2, 2), (2, 2), (2, 2), (0, 1), (2, 2), (2, 2), (2, 2), (2, 2), (2, 2), (2, 2), (2, 2), (2, 2), (2, 2), (0, 0), (2, 2), (2, 2), (3, 3), (2, 2), (2, 2), (0, 0), (2, 2), (0, 0), (3, 3), (2, 2), (2, 2), (2, 2), (2, 2), (2, 2), (2, 2), (2, 2), (2, 2), (3, 3), (2, 0), (2, 2), (2, 2), (2, 2), (2, 2), (1, 1), (1, 1), (2, 2), (0, 0), (2, 2), (2, 2), (2, 2), (2, 2), (2, 2), (2, 2), (2, 2), (2, 2), (2, 2), (1, 1), (2, 0), (3, 3), (2, 2), (2, 2), (2, 2), (2, 2), (0, 0), (0, 0), (2, 2), (2, 2), (2, 2), (2, 2), (3, 3), (2, 2), (0, 0), (2, 2), (1, 1), (0, 0), (2, 2), (2, 2), (2, 2), (2, 2), (0, 0), (3, 3), (0, 0), (0, 0), (2, 2), (2, 2), (2, 2), (2, 2), (0, 0), (2, 2), (2, 0), (2, 2), (2, 2), (2, 0), (2, 2), (2, 2), (3, 1), (0, 0), (2, 0), (2, 2), (2, 2), (3, 0), (2, 2), (2, 2), (1, 1), (2, 2), (2, 2), (2, 2), (2, 2), (2, 2), (2, 2), (2, 2), (0, 0), (2, 2), (2, 2), (2, 2), (2, 2), (2, 2), (0, 0), (0, 0), (2, 2), (2, 2), (2, 2), (2, 2), (3, 3), (2, 2), (2, 2), (0, 0), (2, 2), (0, 0), (2, 2), (0, 0), (2, 2), (2, 2), (2, 2), (2, 2), (2, 2), (0, 0), (2, 2), (2, 2), (2, 2), (0, 0), (2, 2), (2, 2), (0, 0), (2, 2), (2, 2), (2, 2), (0, 0), (2, 2), (2, 2), (2, 2), (0, 0), (2, 2), (2, 2), (0, 0), (2, 2), (2, 2), (2, 2), (1, 1), (1, 1), (2, 2), (2, 2), (2, 2), (0, 0), (0, 2), (2, 2), (0, 0), (3, 3), (3, 3), (0, 0), (2, 0), (0, 0), (2, 2), (2, 2), (2, 2), (3, 3), (2, 2), (2, 2), (0, 0), (2, 2), (2, 2), (2, 2), (2, 2), (2, 2), (0, 0), (2, 2), (2, 2), (2, 2), (3, 1), (2, 2), (2, 2), (2, 2), (0, 0), (2, 2), (2, 2), (2, 2), (2, 2), (0, 0), (0, 0), (2, 2), (2, 2), (1, 1), (2, 2), (2, 2), (2, 2), (0, 0), (2, 2), (2, 2), (0, 0), (0, 0), (2, 2), (0, 0), (0, 0), (2, 2), (2, 2), (0, 2), (0, 0), (2, 2), (2, 2), (2, 2), (2, 2), (2, 2), (0, 0), (2, 2), (2, 2), (2, 2), (0, 0), (2, 2), (2, 2), (2, 2), (2, 2), (2, 2), (2, 2), (2, 2), (2, 2), (1, 1), (3, 1), (3, 3), (2, 2), (2, 2), (2, 2), (2, 2), (0, 0), (2, 2), (2, 2), (2, 2), (3, 3), (2, 2), (2, 2), (1, 2), (2, 2), (1, 1), (2, 2), (2, 2), (2, 2), (0, 0), (0, 0), (2, 2), (2, 2), (2, 2), (2, 2), (2, 2), (2, 2), (2, 2), (0, 0), (2, 2), (0, 0), (1, 1), (2, 2), (2, 2), (2, 2), (2, 2), (2, 2), (0, 0), (2, 2), (2, 2), (3, 3), (0, 2), (0, 0), (0, 0), (0, 0), (2, 2), (0, 1), (2, 2), (2, 2), (2, 2), (0, 0), (0, 1), (2, 2), (0, 0), (2, 2), (1, 3), (0, 0), (2, 2), (2, 2), (0, 0), (2, 2), (2, 2), (2, 2), (0, 0), (1, 1), (2, 2), (0, 0), (0, 0), (2, 2), (0, 0), (2, 2), (2, 2), (2, 2), (2, 2), (2, 2), (2, 2), (2, 2), (2, 2), (2, 2), (2, 2), (2, 2), (2, 2), (0, 2), (2, 2), (2, 2), (3, 3), (2, 2), (2, 2), (2, 2), (2, 2), (0, 0), (2, 2), (2, 2), (2, 2), (0, 0), (2, 2), (2, 2), (2, 2), (0, 0), (2, 2), (2, 2), (2, 2), (0, 0), (2, 2), (2, 2), (0, 0), (3, 1), (2, 2), (2, 2), (2, 2), (2, 2), (1, 3), (2, 2), (2, 2), (2, 2), (2, 2), (2, 2), (2, 2), (0, 0), (2, 2), (0, 0), (2, 2), (0, 0), (2, 2), (2, 2), (2, 2), (2, 2), (0, 0), (2, 2), (2, 2), (2, 2), (2, 2), (2, 2), (2, 2), (2, 2), (2, 2), (2, 2), (1, 2), (2, 2), (2, 2), (2, 2), (2, 2), (2, 2), (0, 0), (0, 0), (2, 2), (2, 2), (2, 2), (0, 1), (2, 2), (2, 2), (2, 2), (2, 2), (2, 2), (0, 0), (2, 2), (0, 0), (2, 2), (2, 2), (0, 0), (2, 2), (0, 0), (2, 2), (2, 0), (2, 2), (3, 3), (2, 2), (0, 0)]\n"
     ]
    }
   ],
   "source": [
    "print(list(zip(Y_test, Y_pred)))"
   ]
  },
  {
   "cell_type": "markdown",
   "metadata": {},
   "source": [
    "### Evaluating the Tunned Decision Tree Model."
   ]
  },
  {
   "cell_type": "code",
   "execution_count": 39,
   "metadata": {},
   "outputs": [
    {
     "name": "stdout",
     "output_type": "stream",
     "text": [
      "Confusion Matrix = \n",
      "[[ 92   6   4   0]\n",
      " [  0  17   2   2]\n",
      " [  8   0 363   0]\n",
      " [  3   5   0  17]] \n",
      "\n",
      "Accuracy Score =  0.9421965317919075 \n",
      "\n",
      "Classification Report = \n",
      "              precision    recall  f1-score   support\n",
      "\n",
      "           0       0.89      0.90      0.90       102\n",
      "           1       0.61      0.81      0.69        21\n",
      "           2       0.98      0.98      0.98       371\n",
      "           3       0.89      0.68      0.77        25\n",
      "\n",
      "    accuracy                           0.94       519\n",
      "   macro avg       0.84      0.84      0.84       519\n",
      "weighted avg       0.95      0.94      0.94       519\n",
      "\n"
     ]
    }
   ],
   "source": [
    "from sklearn.metrics import confusion_matrix, accuracy_score, classification_report\n",
    "\n",
    "print(\"Confusion Matrix = \")\n",
    "print(confusion_matrix(Y_test, Y_pred), \"\\n\")\n",
    "print(\"Accuracy Score = \", accuracy_score(Y_test, Y_pred), \"\\n\")\n",
    "print(\"Classification Report = \")\n",
    "print(classification_report(Y_test, Y_pred))"
   ]
  },
  {
   "cell_type": "code",
   "execution_count": 40,
   "metadata": {},
   "outputs": [],
   "source": [
    "# From Above results we can see that the accuracy of the model = 94.21% which is less that the basic model.\n",
    "# Thus from this we can conclude that the basic model is better than the tunned model."
   ]
  },
  {
   "cell_type": "markdown",
   "metadata": {},
   "source": [
    "#### Lets find out the Tunned Decision Tree Model Depth."
   ]
  },
  {
   "cell_type": "code",
   "execution_count": 41,
   "metadata": {},
   "outputs": [
    {
     "name": "stdout",
     "output_type": "stream",
     "text": [
      "10\n"
     ]
    }
   ],
   "source": [
    "print(model_tunn_DecisionTree.get_depth())"
   ]
  },
  {
   "cell_type": "code",
   "execution_count": 42,
   "metadata": {},
   "outputs": [],
   "source": [
    "# Thus from above we can see that the tunned model was limited to the depth of 10 as per the parameter."
   ]
  },
  {
   "cell_type": "markdown",
   "metadata": {},
   "source": [
    "### Plotting the Tunned Model."
   ]
  },
  {
   "cell_type": "code",
   "execution_count": 43,
   "metadata": {},
   "outputs": [],
   "source": [
    "from sklearn.tree import export_graphviz\n",
    "\n",
    "with open(r\"D:\\data science\\Python - Anaconda\\Decision Tree & Ensamble modeling\\model_tunn_DecisionTree.txt\", \"w\") as f:\n",
    "    f = export_graphviz(model_tunn_DecisionTree, feature_names = cars_df.columns[:-1], out_file = f)\n",
    "    \n",
    "# Generate the file and upload the code in the file on \"webgraphviz.com\" to plot the decision tree."
   ]
  },
  {
   "cell_type": "markdown",
   "metadata": {},
   "source": [
    "### Building the SVM(Support Vector Machine)."
   ]
  },
  {
   "cell_type": "code",
   "execution_count": 44,
   "metadata": {},
   "outputs": [],
   "source": [
    "from sklearn.svm import SVC\n",
    "\n",
    "# Build the model\n",
    "classifier = SVC(kernel = \"rbf\", gamma = 0.1, C= 1)\n",
    "\n",
    "# Traing the model\n",
    "classifier.fit(X_train, Y_train)\n",
    "\n",
    "# Predict using the model\n",
    "Y_pred = classifier.predict(X_test)"
   ]
  },
  {
   "cell_type": "code",
   "execution_count": 45,
   "metadata": {},
   "outputs": [
    {
     "name": "stdout",
     "output_type": "stream",
     "text": [
      "[(2, 2), (2, 2), (2, 2), (2, 2), (1, 0), (2, 2), (0, 0), (0, 0), (2, 2), (0, 0), (2, 2), (2, 2), (2, 2), (2, 2), (0, 0), (0, 0), (2, 2), (2, 2), (2, 2), (2, 2), (2, 2), (2, 2), (2, 0), (2, 2), (2, 2), (2, 2), (2, 2), (0, 0), (2, 2), (2, 2), (2, 2), (2, 2), (2, 2), (0, 2), (2, 2), (2, 2), (2, 2), (2, 2), (2, 2), (0, 0), (2, 2), (2, 2), (2, 2), (3, 0), (2, 0), (0, 0), (2, 2), (2, 2), (2, 2), (2, 2), (2, 2), (0, 0), (1, 0), (3, 3), (1, 0), (2, 2), (0, 2), (2, 2), (0, 0), (2, 2), (2, 2), (2, 2), (2, 2), (3, 0), (2, 2), (2, 2), (0, 0), (0, 0), (2, 2), (2, 2), (3, 0), (2, 2), (2, 2), (2, 2), (1, 0), (2, 2), (0, 0), (3, 0), (2, 2), (2, 2), (2, 0), (2, 2), (2, 0), (2, 2), (2, 2), (2, 2), (2, 2), (0, 0), (2, 2), (0, 0), (2, 2), (2, 2), (2, 2), (2, 0), (2, 2), (2, 2), (2, 2), (2, 2), (2, 2), (2, 2), (2, 2), (2, 2), (2, 2), (2, 2), (0, 0), (2, 2), (2, 2), (2, 2), (2, 2), (2, 2), (2, 2), (2, 2), (2, 2), (2, 2), (0, 2), (2, 2), (2, 2), (1, 0), (2, 2), (2, 2), (2, 2), (2, 2), (2, 2), (2, 2), (0, 0), (2, 2), (2, 2), (2, 2), (2, 2), (2, 2), (2, 2), (2, 0), (2, 2), (2, 2), (0, 0), (2, 2), (2, 2), (3, 3), (2, 2), (2, 2), (0, 2), (2, 2), (0, 0), (3, 3), (2, 2), (2, 2), (2, 2), (2, 2), (2, 2), (2, 2), (2, 2), (2, 2), (3, 0), (2, 2), (2, 2), (2, 2), (2, 2), (2, 2), (1, 0), (1, 0), (2, 2), (0, 0), (2, 2), (2, 2), (2, 2), (2, 2), (2, 2), (2, 2), (2, 2), (2, 2), (2, 2), (1, 0), (2, 2), (3, 0), (2, 2), (2, 2), (2, 2), (2, 2), (0, 0), (0, 0), (2, 0), (2, 2), (2, 2), (2, 2), (3, 0), (2, 2), (0, 2), (2, 2), (1, 0), (0, 0), (2, 0), (2, 2), (2, 2), (2, 2), (0, 0), (3, 3), (0, 2), (0, 0), (2, 2), (2, 2), (2, 2), (2, 2), (0, 0), (2, 2), (2, 2), (2, 2), (2, 2), (2, 2), (2, 2), (2, 2), (3, 0), (0, 0), (2, 2), (2, 2), (2, 2), (3, 0), (2, 2), (2, 2), (1, 0), (2, 2), (2, 0), (2, 2), (2, 2), (2, 2), (2, 2), (2, 2), (0, 0), (2, 2), (2, 2), (2, 2), (2, 2), (2, 2), (0, 0), (0, 0), (2, 2), (2, 2), (2, 2), (2, 2), (3, 3), (2, 2), (2, 2), (0, 2), (2, 2), (0, 0), (2, 2), (0, 0), (2, 2), (2, 2), (2, 2), (2, 2), (2, 2), (0, 0), (2, 2), (2, 2), (2, 2), (0, 2), (2, 2), (2, 2), (0, 0), (2, 2), (2, 2), (2, 2), (0, 0), (2, 2), (2, 2), (2, 2), (0, 0), (2, 2), (2, 2), (0, 0), (2, 2), (2, 2), (2, 2), (1, 0), (1, 0), (2, 2), (2, 2), (2, 2), (0, 0), (0, 0), (2, 2), (0, 0), (3, 3), (3, 0), (0, 0), (2, 0), (0, 2), (2, 2), (2, 2), (2, 2), (3, 3), (2, 2), (2, 2), (0, 2), (2, 2), (2, 2), (2, 2), (2, 2), (2, 2), (0, 0), (2, 2), (2, 2), (2, 2), (3, 0), (2, 2), (2, 0), (2, 2), (0, 0), (2, 2), (2, 2), (2, 2), (2, 2), (0, 2), (0, 0), (2, 2), (2, 2), (1, 0), (2, 2), (2, 2), (2, 2), (0, 0), (2, 2), (2, 2), (0, 0), (0, 0), (2, 2), (0, 0), (0, 0), (2, 2), (2, 0), (0, 2), (0, 0), (2, 2), (2, 2), (2, 2), (2, 2), (2, 2), (0, 0), (2, 2), (2, 2), (2, 2), (0, 0), (2, 2), (2, 2), (2, 2), (2, 2), (2, 2), (2, 2), (2, 2), (2, 2), (1, 0), (3, 0), (3, 0), (2, 2), (2, 2), (2, 2), (2, 2), (0, 0), (2, 2), (2, 2), (2, 2), (3, 3), (2, 2), (2, 2), (1, 0), (2, 2), (1, 0), (2, 2), (2, 2), (2, 2), (0, 0), (0, 0), (2, 2), (2, 2), (2, 2), (2, 2), (2, 2), (2, 2), (2, 2), (0, 2), (2, 2), (0, 2), (1, 0), (2, 2), (2, 2), (2, 2), (2, 2), (2, 2), (0, 2), (2, 2), (2, 2), (3, 0), (0, 2), (0, 0), (0, 0), (0, 0), (2, 2), (0, 0), (2, 2), (2, 2), (2, 2), (0, 0), (0, 0), (2, 2), (0, 0), (2, 2), (1, 0), (0, 0), (2, 2), (2, 2), (0, 0), (2, 2), (2, 2), (2, 2), (0, 0), (1, 0), (2, 2), (0, 0), (0, 0), (2, 2), (0, 2), (2, 2), (2, 2), (2, 2), (2, 2), (2, 2), (2, 2), (2, 2), (2, 2), (2, 2), (2, 2), (2, 2), (2, 2), (0, 2), (2, 2), (2, 2), (3, 0), (2, 2), (2, 2), (2, 2), (2, 2), (0, 2), (2, 2), (2, 2), (2, 2), (0, 0), (2, 2), (2, 2), (2, 2), (0, 0), (2, 2), (2, 2), (2, 2), (0, 0), (2, 2), (2, 2), (0, 2), (3, 0), (2, 2), (2, 2), (2, 2), (2, 0), (1, 0), (2, 2), (2, 2), (2, 2), (2, 2), (2, 2), (2, 2), (0, 0), (2, 2), (0, 0), (2, 2), (0, 0), (2, 2), (2, 2), (2, 2), (2, 2), (0, 0), (2, 0), (2, 0), (2, 2), (2, 2), (2, 0), (2, 2), (2, 2), (2, 2), (2, 2), (1, 0), (2, 2), (2, 2), (2, 2), (2, 2), (2, 2), (0, 0), (0, 0), (2, 2), (2, 2), (2, 2), (0, 0), (2, 2), (2, 2), (2, 2), (2, 2), (2, 2), (0, 0), (2, 2), (0, 0), (2, 2), (2, 2), (0, 0), (2, 2), (0, 0), (2, 2), (2, 0), (2, 2), (3, 0), (2, 2), (0, 0)]\n"
     ]
    }
   ],
   "source": [
    "print(list(zip(Y_test, Y_pred)))"
   ]
  },
  {
   "cell_type": "markdown",
   "metadata": {},
   "source": [
    "### Evaluating The SVM model."
   ]
  },
  {
   "cell_type": "code",
   "execution_count": 46,
   "metadata": {},
   "outputs": [
    {
     "name": "stdout",
     "output_type": "stream",
     "text": [
      "Confusion Matrix = \n",
      "[[ 82   0  20   0]\n",
      " [ 21   0   0   0]\n",
      " [ 17   0 354   0]\n",
      " [ 17   0   0   8]] \n",
      "\n",
      "Accuracy Score =  0.8554913294797688 \n",
      "\n",
      "Classification Report = \n",
      "              precision    recall  f1-score   support\n",
      "\n",
      "           0       0.60      0.80      0.69       102\n",
      "           1       0.00      0.00      0.00        21\n",
      "           2       0.95      0.95      0.95       371\n",
      "           3       1.00      0.32      0.48        25\n",
      "\n",
      "    accuracy                           0.86       519\n",
      "   macro avg       0.64      0.52      0.53       519\n",
      "weighted avg       0.84      0.86      0.84       519\n",
      "\n"
     ]
    },
    {
     "name": "stderr",
     "output_type": "stream",
     "text": [
      "C:\\Users\\HP\\anaconda3\\lib\\site-packages\\sklearn\\metrics\\_classification.py:1272: UndefinedMetricWarning: Precision and F-score are ill-defined and being set to 0.0 in labels with no predicted samples. Use `zero_division` parameter to control this behavior.\n",
      "  _warn_prf(average, modifier, msg_start, len(result))\n"
     ]
    }
   ],
   "source": [
    "from sklearn.metrics import confusion_matrix, accuracy_score, classification_report\n",
    "\n",
    "print(\"Confusion Matrix = \")\n",
    "print(confusion_matrix(Y_test, Y_pred), \"\\n\")\n",
    "print(\"Accuracy Score = \", accuracy_score(Y_test, Y_pred), \"\\n\")\n",
    "print(\"Classification Report = \")\n",
    "print(classification_report(Y_test, Y_pred))"
   ]
  },
  {
   "cell_type": "markdown",
   "metadata": {},
   "source": [
    "### Tunning the SVM model "
   ]
  },
  {
   "cell_type": "code",
   "execution_count": 47,
   "metadata": {},
   "outputs": [],
   "source": [
    "from sklearn.svm import SVC\n",
    "\n",
    "# Building the model.\n",
    "classifier = SVC(kernel = \"rbf\", gamma = 0.1, C=50)\n",
    "\n",
    "# Train the model.\n",
    "classifier.fit(X_train, Y_train)\n",
    "\n",
    "# Predict using model.\n",
    "Y_pred = classifier.predict(X_test)"
   ]
  },
  {
   "cell_type": "code",
   "execution_count": 48,
   "metadata": {},
   "outputs": [
    {
     "name": "stdout",
     "output_type": "stream",
     "text": [
      "Confusion Matrix = \n",
      "[[100   0   0   0]\n",
      " [  1  21   0   0]\n",
      " [  1   0 371   0]\n",
      " [  0   0   0  25]]\n",
      "Accuracy score =  0.9961464354527938 \n",
      "\n",
      "Classification Report = \n",
      "              precision    recall  f1-score   support\n",
      "\n",
      "           0       0.98      1.00      0.99       100\n",
      "           1       1.00      0.95      0.98        22\n",
      "           2       1.00      1.00      1.00       372\n",
      "           3       1.00      1.00      1.00        25\n",
      "\n",
      "    accuracy                           1.00       519\n",
      "   macro avg       1.00      0.99      0.99       519\n",
      "weighted avg       1.00      1.00      1.00       519\n",
      "\n"
     ]
    }
   ],
   "source": [
    "from sklearn.metrics import confusion_matrix, accuracy_score, classification_report\n",
    "\n",
    "print(\"Confusion Matrix = \")\n",
    "print(confusion_matrix(Y_pred, Y_test))\n",
    "print(\"Accuracy score = \", accuracy_score(Y_pred, Y_test), \"\\n\")\n",
    "print(\"Classification Report = \")\n",
    "print(classification_report(Y_pred, Y_test))"
   ]
  },
  {
   "cell_type": "code",
   "execution_count": 49,
   "metadata": {},
   "outputs": [],
   "source": [
    "# Thus from above we can say tunned SVM model gives accuracy = 99.61% \n",
    "# thus tunned SVM model gives much better accuracy than basic SVM model."
   ]
  },
  {
   "cell_type": "markdown",
   "metadata": {},
   "source": [
    "#### Why did we put n_neighbors = ? "
   ]
  },
  {
   "cell_type": "code",
   "execution_count": 50,
   "metadata": {},
   "outputs": [
    {
     "data": {
      "text/plain": [
       "34"
      ]
     },
     "execution_count": 50,
     "metadata": {},
     "output_type": "execute_result"
    }
   ],
   "source": [
    "int(np.sqrt(len(X_train)))"
   ]
  },
  {
   "cell_type": "code",
   "execution_count": 51,
   "metadata": {},
   "outputs": [],
   "source": [
    "\n",
    "# Thus from above we can say that n_neighbors should be less than 34"
   ]
  },
  {
   "cell_type": "code",
   "execution_count": 52,
   "metadata": {},
   "outputs": [
    {
     "name": "stdout",
     "output_type": "stream",
     "text": [
      "For n_neighbors = 1 the accuracy score = 0.9248554913294798\n",
      "For n_neighbors = 2 the accuracy score = 0.8901734104046243\n",
      "For n_neighbors = 3 the accuracy score = 0.9113680154142582\n",
      "For n_neighbors = 4 the accuracy score = 0.8959537572254336\n",
      "For n_neighbors = 5 the accuracy score = 0.9441233140655106\n",
      "For n_neighbors = 6 the accuracy score = 0.9267822736030829\n",
      "For n_neighbors = 7 the accuracy score = 0.9402697495183044\n",
      "For n_neighbors = 8 the accuracy score = 0.9479768786127167\n",
      "For n_neighbors = 9 the accuracy score = 0.9402697495183044\n",
      "For n_neighbors = 10 the accuracy score = 0.9344894026974951\n",
      "For n_neighbors = 11 the accuracy score = 0.9325626204238922\n",
      "For n_neighbors = 12 the accuracy score = 0.9210019267822736\n",
      "For n_neighbors = 13 the accuracy score = 0.9017341040462428\n",
      "For n_neighbors = 14 the accuracy score = 0.9036608863198459\n",
      "For n_neighbors = 15 the accuracy score = 0.8882466281310212\n",
      "For n_neighbors = 16 the accuracy score = 0.8786127167630058\n",
      "For n_neighbors = 17 the accuracy score = 0.8805394990366089\n",
      "For n_neighbors = 18 the accuracy score = 0.8689788053949904\n",
      "For n_neighbors = 19 the accuracy score = 0.8554913294797688\n",
      "For n_neighbors = 20 the accuracy score = 0.861271676300578\n",
      "For n_neighbors = 21 the accuracy score = 0.8516377649325626\n",
      "For n_neighbors = 22 the accuracy score = 0.8516377649325626\n",
      "For n_neighbors = 23 the accuracy score = 0.8516377649325626\n",
      "For n_neighbors = 24 the accuracy score = 0.8554913294797688\n",
      "For n_neighbors = 25 the accuracy score = 0.8458574181117534\n",
      "For n_neighbors = 26 the accuracy score = 0.8497109826589595\n",
      "For n_neighbors = 27 the accuracy score = 0.8458574181117534\n",
      "For n_neighbors = 28 the accuracy score = 0.8400770712909441\n",
      "For n_neighbors = 29 the accuracy score = 0.8304431599229287\n",
      "For n_neighbors = 30 the accuracy score = 0.8304431599229287\n",
      "For n_neighbors = 31 the accuracy score = 0.8285163776493256\n",
      "For n_neighbors = 32 the accuracy score = 0.8304431599229287\n",
      "For n_neighbors = 33 the accuracy score = 0.8208092485549133\n",
      "For n_neighbors = 34 the accuracy score = 0.8169556840077071\n"
     ]
    }
   ],
   "source": [
    "import numpy as np\n",
    "from sklearn.neighbors import KNeighborsClassifier\n",
    "\n",
    "for i in range(1,35,1):\n",
    "    model_KNN = KNeighborsClassifier(n_neighbors = i, metric = \"euclidean\")\n",
    "    model_KNN.fit(X_train, Y_train)\n",
    "    Y_pred = model_KNN.predict(X_test)\n",
    "    print(\"For n_neighbors =\", i , \"the accuracy score =\",accuracy_score(Y_pred, Y_test))"
   ]
  },
  {
   "cell_type": "code",
   "execution_count": 53,
   "metadata": {},
   "outputs": [],
   "source": [
    "# Thus form above we can see that we get highest accuracy score of 94.79 %  at n_neighbors = 8"
   ]
  },
  {
   "cell_type": "markdown",
   "metadata": {},
   "source": [
    "### Building the KNN model."
   ]
  },
  {
   "cell_type": "code",
   "execution_count": 54,
   "metadata": {},
   "outputs": [],
   "source": [
    "import numpy as np\n",
    "from sklearn.neighbors import KNeighborsClassifier\n",
    "\n",
    "# Build the model\n",
    "model_KNN = KNeighborsClassifier(n_neighbors = 8 , metric = \"euclidean\")\n",
    "\n",
    "# Train the model\n",
    "model_KNN.fit(X_train, Y_train)\n",
    "\n",
    "# Predict using model\n",
    "Y_pred = model_KNN.predict(X_test)"
   ]
  },
  {
   "cell_type": "code",
   "execution_count": 55,
   "metadata": {},
   "outputs": [
    {
     "name": "stdout",
     "output_type": "stream",
     "text": [
      "[(2, 2), (2, 2), (2, 2), (2, 2), (1, 0), (2, 2), (0, 0), (0, 0), (2, 2), (0, 0), (2, 2), (2, 2), (2, 2), (2, 2), (0, 0), (0, 0), (2, 2), (2, 2), (2, 2), (2, 2), (2, 2), (2, 2), (2, 0), (2, 2), (2, 2), (2, 2), (2, 2), (0, 0), (2, 2), (2, 2), (2, 2), (2, 2), (2, 2), (0, 0), (2, 2), (2, 2), (2, 2), (2, 2), (2, 2), (0, 0), (2, 2), (2, 2), (2, 2), (3, 3), (2, 2), (0, 0), (2, 2), (2, 0), (2, 2), (2, 2), (2, 2), (0, 0), (1, 1), (3, 3), (1, 1), (2, 2), (0, 0), (2, 2), (0, 0), (2, 2), (2, 2), (2, 2), (2, 2), (3, 3), (2, 2), (2, 2), (0, 0), (0, 0), (2, 2), (2, 2), (3, 3), (2, 2), (2, 2), (2, 2), (1, 1), (2, 2), (0, 0), (3, 0), (2, 2), (2, 2), (2, 2), (2, 2), (2, 0), (2, 2), (2, 2), (2, 2), (2, 2), (0, 0), (2, 2), (0, 0), (2, 2), (2, 2), (2, 2), (2, 2), (2, 2), (2, 2), (2, 2), (2, 2), (2, 2), (2, 2), (2, 2), (2, 2), (2, 2), (2, 2), (0, 0), (2, 2), (2, 2), (2, 2), (2, 2), (2, 2), (2, 2), (2, 2), (2, 2), (2, 2), (0, 0), (2, 2), (2, 2), (1, 1), (2, 2), (2, 2), (2, 2), (2, 2), (2, 2), (2, 2), (0, 1), (2, 2), (2, 2), (2, 2), (2, 2), (2, 2), (2, 2), (2, 0), (2, 2), (2, 2), (0, 0), (2, 2), (2, 2), (3, 3), (2, 2), (2, 2), (0, 0), (2, 2), (0, 0), (3, 3), (2, 2), (2, 2), (2, 2), (2, 2), (2, 2), (2, 2), (2, 2), (2, 2), (3, 3), (2, 2), (2, 2), (2, 2), (2, 2), (2, 2), (1, 0), (1, 1), (2, 2), (0, 0), (2, 2), (2, 2), (2, 2), (2, 2), (2, 2), (2, 2), (2, 2), (2, 2), (2, 2), (1, 0), (2, 2), (3, 3), (2, 2), (2, 2), (2, 2), (2, 2), (0, 0), (0, 0), (2, 2), (2, 2), (2, 2), (2, 2), (3, 3), (2, 2), (0, 0), (2, 2), (1, 0), (0, 0), (2, 2), (2, 2), (2, 2), (2, 2), (0, 0), (3, 3), (0, 0), (0, 0), (2, 2), (2, 2), (2, 2), (2, 2), (0, 0), (2, 2), (2, 2), (2, 2), (2, 2), (2, 2), (2, 2), (2, 2), (3, 3), (0, 0), (2, 2), (2, 2), (2, 2), (3, 3), (2, 2), (2, 2), (1, 1), (2, 2), (2, 2), (2, 2), (2, 2), (2, 2), (2, 2), (2, 2), (0, 0), (2, 2), (2, 2), (2, 2), (2, 2), (2, 2), (0, 0), (0, 0), (2, 2), (2, 2), (2, 2), (2, 2), (3, 3), (2, 2), (2, 2), (0, 0), (2, 2), (0, 0), (2, 2), (0, 0), (2, 2), (2, 2), (2, 2), (2, 2), (2, 2), (0, 0), (2, 2), (2, 2), (2, 2), (0, 0), (2, 2), (2, 2), (0, 0), (2, 2), (2, 2), (2, 2), (0, 0), (2, 2), (2, 2), (2, 2), (0, 0), (2, 2), (2, 2), (0, 0), (2, 2), (2, 2), (2, 2), (1, 1), (1, 1), (2, 2), (2, 2), (2, 2), (0, 0), (0, 0), (2, 2), (0, 0), (3, 3), (3, 3), (0, 0), (2, 0), (0, 0), (2, 2), (2, 2), (2, 2), (3, 3), (2, 2), (2, 2), (0, 0), (2, 2), (2, 2), (2, 2), (2, 2), (2, 2), (0, 0), (2, 2), (2, 2), (2, 2), (3, 3), (2, 2), (2, 2), (2, 2), (0, 2), (2, 0), (2, 2), (2, 2), (2, 2), (0, 0), (0, 0), (2, 2), (2, 2), (1, 1), (2, 2), (2, 2), (2, 2), (0, 0), (2, 2), (2, 2), (0, 0), (0, 0), (2, 2), (0, 0), (0, 0), (2, 2), (2, 2), (0, 0), (0, 0), (2, 2), (2, 2), (2, 2), (2, 2), (2, 2), (0, 0), (2, 2), (2, 2), (2, 2), (0, 0), (2, 2), (2, 2), (2, 2), (2, 2), (2, 2), (2, 2), (2, 2), (2, 2), (1, 1), (3, 3), (3, 3), (2, 2), (2, 2), (2, 2), (2, 2), (0, 0), (2, 2), (2, 0), (2, 2), (3, 3), (2, 2), (2, 2), (1, 0), (2, 2), (1, 1), (2, 2), (2, 2), (2, 2), (0, 0), (0, 2), (2, 2), (2, 2), (2, 2), (2, 2), (2, 2), (2, 2), (2, 2), (0, 0), (2, 2), (0, 0), (1, 1), (2, 2), (2, 2), (2, 2), (2, 2), (2, 2), (0, 2), (2, 2), (2, 2), (3, 3), (0, 0), (0, 0), (0, 0), (0, 0), (2, 2), (0, 0), (2, 2), (2, 2), (2, 2), (0, 0), (0, 0), (2, 2), (0, 0), (2, 2), (1, 0), (0, 0), (2, 2), (2, 2), (0, 0), (2, 2), (2, 2), (2, 2), (0, 0), (1, 0), (2, 0), (0, 0), (0, 0), (2, 2), (0, 0), (2, 2), (2, 2), (2, 2), (2, 2), (2, 2), (2, 2), (2, 2), (2, 2), (2, 2), (2, 2), (2, 2), (2, 2), (0, 0), (2, 2), (2, 2), (3, 3), (2, 2), (2, 2), (2, 2), (2, 2), (0, 0), (2, 2), (2, 2), (2, 2), (0, 0), (2, 2), (2, 2), (2, 2), (0, 0), (2, 2), (2, 2), (2, 2), (0, 0), (2, 2), (2, 2), (0, 2), (3, 0), (2, 2), (2, 2), (2, 2), (2, 2), (1, 3), (2, 2), (2, 2), (2, 2), (2, 2), (2, 2), (2, 2), (0, 0), (2, 2), (0, 0), (2, 0), (0, 0), (2, 2), (2, 2), (2, 2), (2, 2), (0, 0), (2, 0), (2, 2), (2, 2), (2, 2), (2, 2), (2, 2), (2, 2), (2, 2), (2, 2), (1, 0), (2, 2), (2, 2), (2, 2), (2, 2), (2, 2), (0, 0), (0, 0), (2, 2), (2, 2), (2, 2), (0, 0), (2, 2), (2, 2), (2, 2), (2, 2), (2, 2), (0, 0), (2, 2), (0, 0), (2, 2), (2, 2), (0, 0), (2, 2), (0, 0), (2, 2), (2, 2), (2, 2), (3, 0), (2, 2), (0, 0)]\n"
     ]
    }
   ],
   "source": [
    "print(list(zip(Y_test, Y_pred)))"
   ]
  },
  {
   "cell_type": "markdown",
   "metadata": {},
   "source": [
    "### Evaluating the KNN model."
   ]
  },
  {
   "cell_type": "code",
   "execution_count": 56,
   "metadata": {},
   "outputs": [
    {
     "name": "stdout",
     "output_type": "stream",
     "text": [
      "Confusion Matrix = \n",
      "[[ 97   8  10   3]\n",
      " [  1  12   0   0]\n",
      " [  4   0 361   0]\n",
      " [  0   1   0  22]]\n",
      "Accuracy score =  0.9479768786127167 \n",
      "\n",
      "Classification Report = \n",
      "              precision    recall  f1-score   support\n",
      "\n",
      "           0       0.95      0.82      0.88       118\n",
      "           1       0.57      0.92      0.71        13\n",
      "           2       0.97      0.99      0.98       365\n",
      "           3       0.88      0.96      0.92        23\n",
      "\n",
      "    accuracy                           0.95       519\n",
      "   macro avg       0.84      0.92      0.87       519\n",
      "weighted avg       0.95      0.95      0.95       519\n",
      "\n"
     ]
    }
   ],
   "source": [
    "from sklearn.metrics import confusion_matrix, accuracy_score, classification_report\n",
    "\n",
    "print(\"Confusion Matrix = \")\n",
    "print(confusion_matrix(Y_pred, Y_test))\n",
    "print(\"Accuracy score = \", accuracy_score(Y_pred, Y_test), \"\\n\")\n",
    "print(\"Classification Report = \")\n",
    "print(classification_report(Y_pred, Y_test))"
   ]
  },
  {
   "cell_type": "code",
   "execution_count": 57,
   "metadata": {},
   "outputs": [],
   "source": [
    "# Thus from above we get that accuracy score for KNN = 94.79 % "
   ]
  },
  {
   "cell_type": "markdown",
   "metadata": {},
   "source": [
    "### Build the Logistic Regression Model"
   ]
  },
  {
   "cell_type": "code",
   "execution_count": 58,
   "metadata": {},
   "outputs": [],
   "source": [
    "from sklearn.linear_model import LogisticRegression\n",
    "\n",
    "# Build the model \n",
    "classifier = LogisticRegression()\n",
    "\n",
    "# Train the model\n",
    "classifier.fit(X_train, Y_train)\n",
    "\n",
    "# Predict using model\n",
    "Y_pred = classifier.predict(X_test)"
   ]
  },
  {
   "cell_type": "code",
   "execution_count": 59,
   "metadata": {},
   "outputs": [
    {
     "name": "stdout",
     "output_type": "stream",
     "text": [
      "[(2, 2), (2, 2), (2, 2), (2, 2), (1, 2), (2, 2), (0, 2), (0, 2), (2, 0), (0, 2), (2, 0), (2, 2), (2, 0), (2, 2), (0, 2), (0, 2), (2, 2), (2, 2), (2, 2), (2, 0), (2, 2), (2, 2), (2, 3), (2, 2), (2, 2), (2, 2), (2, 0), (0, 2), (2, 2), (2, 2), (2, 2), (2, 2), (2, 2), (0, 2), (2, 2), (2, 2), (2, 2), (2, 2), (2, 2), (0, 0), (2, 2), (2, 2), (2, 2), (3, 2), (2, 2), (0, 2), (2, 2), (2, 2), (2, 2), (2, 2), (2, 2), (0, 0), (1, 2), (3, 2), (1, 2), (2, 2), (0, 2), (2, 2), (0, 2), (2, 2), (2, 2), (2, 2), (2, 2), (3, 0), (2, 2), (2, 2), (0, 2), (0, 0), (2, 2), (2, 2), (3, 0), (2, 2), (2, 2), (2, 2), (1, 2), (2, 2), (0, 2), (3, 2), (2, 2), (2, 2), (2, 0), (2, 0), (2, 2), (2, 2), (2, 2), (2, 2), (2, 2), (0, 0), (2, 2), (0, 2), (2, 2), (2, 2), (2, 2), (2, 2), (2, 2), (2, 2), (2, 2), (2, 2), (2, 2), (2, 2), (2, 2), (2, 2), (2, 2), (2, 2), (0, 2), (2, 2), (2, 2), (2, 2), (2, 2), (2, 2), (2, 2), (2, 2), (2, 2), (2, 2), (0, 2), (2, 2), (2, 2), (1, 2), (2, 2), (2, 0), (2, 2), (2, 2), (2, 2), (2, 2), (0, 2), (2, 2), (2, 2), (2, 2), (2, 2), (2, 2), (2, 0), (2, 0), (2, 2), (2, 2), (0, 2), (2, 2), (2, 0), (3, 2), (2, 2), (2, 2), (0, 2), (2, 2), (0, 0), (3, 0), (2, 2), (2, 2), (2, 2), (2, 2), (2, 2), (2, 0), (2, 2), (2, 2), (3, 2), (2, 2), (2, 2), (2, 2), (2, 2), (2, 2), (1, 0), (1, 2), (2, 2), (0, 2), (2, 2), (2, 2), (2, 2), (2, 0), (2, 2), (2, 2), (2, 2), (2, 2), (2, 2), (1, 2), (2, 2), (3, 0), (2, 2), (2, 2), (2, 2), (2, 0), (0, 0), (0, 2), (2, 2), (2, 2), (2, 2), (2, 2), (3, 2), (2, 2), (0, 2), (2, 0), (1, 2), (0, 2), (2, 3), (2, 2), (2, 2), (2, 2), (0, 2), (3, 3), (0, 2), (0, 2), (2, 2), (2, 2), (2, 2), (2, 2), (0, 2), (2, 2), (2, 2), (2, 2), (2, 2), (2, 2), (2, 2), (2, 2), (3, 0), (0, 2), (2, 2), (2, 0), (2, 2), (3, 0), (2, 2), (2, 2), (1, 2), (2, 2), (2, 0), (2, 2), (2, 2), (2, 2), (2, 2), (2, 2), (0, 0), (2, 2), (2, 2), (2, 2), (2, 2), (2, 2), (0, 0), (0, 2), (2, 2), (2, 2), (2, 2), (2, 2), (3, 2), (2, 2), (2, 2), (0, 2), (2, 2), (0, 2), (2, 2), (0, 2), (2, 2), (2, 2), (2, 2), (2, 2), (2, 2), (0, 2), (2, 2), (2, 2), (2, 2), (0, 2), (2, 2), (2, 2), (0, 0), (2, 2), (2, 2), (2, 2), (0, 2), (2, 2), (2, 2), (2, 2), (0, 2), (2, 2), (2, 2), (0, 2), (2, 2), (2, 0), (2, 2), (1, 0), (1, 2), (2, 2), (2, 2), (2, 2), (0, 2), (0, 2), (2, 2), (0, 0), (3, 2), (3, 3), (0, 2), (2, 2), (0, 2), (2, 2), (2, 2), (2, 2), (3, 2), (2, 2), (2, 2), (0, 2), (2, 2), (2, 2), (2, 2), (2, 2), (2, 2), (0, 0), (2, 2), (2, 2), (2, 2), (3, 2), (2, 2), (2, 2), (2, 2), (0, 2), (2, 2), (2, 2), (2, 2), (2, 2), (0, 2), (0, 0), (2, 2), (2, 2), (1, 2), (2, 2), (2, 2), (2, 2), (0, 2), (2, 2), (2, 2), (0, 2), (0, 3), (2, 2), (0, 2), (0, 2), (2, 2), (2, 0), (0, 2), (0, 2), (2, 2), (2, 2), (2, 2), (2, 2), (2, 2), (0, 2), (2, 2), (2, 2), (2, 2), (0, 2), (2, 2), (2, 2), (2, 2), (2, 2), (2, 2), (2, 2), (2, 0), (2, 2), (1, 2), (3, 2), (3, 3), (2, 2), (2, 2), (2, 2), (2, 2), (0, 2), (2, 2), (2, 2), (2, 2), (3, 0), (2, 2), (2, 2), (1, 2), (2, 2), (1, 2), (2, 2), (2, 2), (2, 2), (0, 0), (0, 2), (2, 2), (2, 0), (2, 2), (2, 2), (2, 2), (2, 2), (2, 2), (0, 2), (2, 2), (0, 2), (1, 2), (2, 2), (2, 2), (2, 2), (2, 2), (2, 2), (0, 2), (2, 0), (2, 0), (3, 2), (0, 2), (0, 3), (0, 0), (0, 2), (2, 2), (0, 2), (2, 2), (2, 2), (2, 2), (0, 2), (0, 2), (2, 2), (0, 2), (2, 2), (1, 2), (0, 2), (2, 2), (2, 2), (0, 2), (2, 2), (2, 2), (2, 2), (0, 2), (1, 0), (2, 2), (0, 2), (0, 0), (2, 2), (0, 2), (2, 2), (2, 2), (2, 2), (2, 2), (2, 2), (2, 2), (2, 2), (2, 2), (2, 2), (2, 0), (2, 2), (2, 2), (0, 2), (2, 2), (2, 2), (3, 2), (2, 2), (2, 2), (2, 2), (2, 0), (0, 2), (2, 0), (2, 2), (2, 2), (0, 2), (2, 0), (2, 2), (2, 2), (0, 2), (2, 2), (2, 2), (2, 0), (0, 3), (2, 2), (2, 2), (0, 2), (3, 0), (2, 2), (2, 2), (2, 2), (2, 2), (1, 2), (2, 2), (2, 2), (2, 2), (2, 2), (2, 2), (2, 2), (0, 2), (2, 0), (0, 2), (2, 2), (0, 0), (2, 2), (2, 2), (2, 2), (2, 2), (0, 0), (2, 2), (2, 2), (2, 2), (2, 2), (2, 2), (2, 2), (2, 2), (2, 2), (2, 2), (1, 2), (2, 2), (2, 2), (2, 2), (2, 2), (2, 2), (0, 2), (0, 0), (2, 2), (2, 2), (2, 2), (0, 2), (2, 2), (2, 2), (2, 2), (2, 2), (2, 2), (0, 3), (2, 2), (0, 2), (2, 2), (2, 2), (0, 3), (2, 2), (0, 2), (2, 2), (2, 0), (2, 2), (3, 2), (2, 2), (0, 0)]\n"
     ]
    }
   ],
   "source": [
    "print(list(zip(Y_test, Y_pred)))"
   ]
  },
  {
   "cell_type": "markdown",
   "metadata": {},
   "source": [
    "### Evaluating The Logistic Regression Model."
   ]
  },
  {
   "cell_type": "code",
   "execution_count": 60,
   "metadata": {},
   "outputs": [
    {
     "name": "stdout",
     "output_type": "stream",
     "text": [
      "Confusion Matrix = \n",
      "[[ 19   3  30   8]\n",
      " [  0   0   0   0]\n",
      " [ 78  18 339  14]\n",
      " [  5   0   2   3]]\n",
      "Accuracy score =  0.6955684007707129 \n",
      "\n",
      "Classification Report = \n",
      "              precision    recall  f1-score   support\n",
      "\n",
      "           0       0.19      0.32      0.23        60\n",
      "           1       0.00      0.00      0.00         0\n",
      "           2       0.91      0.76      0.83       449\n",
      "           3       0.12      0.30      0.17        10\n",
      "\n",
      "    accuracy                           0.70       519\n",
      "   macro avg       0.31      0.34      0.31       519\n",
      "weighted avg       0.81      0.70      0.75       519\n",
      "\n"
     ]
    },
    {
     "name": "stderr",
     "output_type": "stream",
     "text": [
      "C:\\Users\\HP\\anaconda3\\lib\\site-packages\\sklearn\\metrics\\_classification.py:1272: UndefinedMetricWarning: Recall and F-score are ill-defined and being set to 0.0 in labels with no true samples. Use `zero_division` parameter to control this behavior.\n",
      "  _warn_prf(average, modifier, msg_start, len(result))\n"
     ]
    }
   ],
   "source": [
    "from sklearn.metrics import confusion_matrix, accuracy_score, classification_report\n",
    "\n",
    "print(\"Confusion Matrix = \")\n",
    "print(confusion_matrix(Y_pred, Y_test))\n",
    "print(\"Accuracy score = \", accuracy_score(Y_pred, Y_test), \"\\n\")\n",
    "print(\"Classification Report = \")\n",
    "print(classification_report(Y_pred, Y_test))"
   ]
  },
  {
   "cell_type": "code",
   "execution_count": 61,
   "metadata": {},
   "outputs": [],
   "source": [
    "# Thus from above we get accuracy for Logistic Regression Model = 69.55 %"
   ]
  },
  {
   "cell_type": "code",
   "execution_count": 62,
   "metadata": {},
   "outputs": [],
   "source": [
    "# List of Accuracy Score for all the models:\n",
    "# 1) Basic Decision Tree            = 99.22 %\n",
    "# 2) Tunned Decision Tree           = 94.21 %\n",
    "# 3) Basic SVM                      = 85.54 %\n",
    "# 4) Tunned SVM                     = 99.61 %\n",
    "# 5) KNN                            = 94.79 %\n",
    "# 6) Logistic Regression            = 69.55 %   "
   ]
  },
  {
   "cell_type": "code",
   "execution_count": 63,
   "metadata": {},
   "outputs": [],
   "source": [
    "# Thus from above information we can say that \n",
    "# The best model according to accuracy score is Tunned SVM which gives higgest accuracy of about 99.61% .\n",
    "# But it is a tunned model and thus has higger complexity.\n",
    "# but if we look at Basic Decision Tree model it gives accuracy score of about 99.22 % \n",
    "# which is almost equal to tunned SVM.\n",
    "# and Basic Decision tree is not a tunned model thus it is simpler than the tunned SVM.\n",
    "# Thus we would choose Basic Decision Tree as the best algorithm for deloyment."
   ]
  },
  {
   "cell_type": "markdown",
   "metadata": {},
   "source": [
    "## Employing the Bagging Algorithms."
   ]
  },
  {
   "cell_type": "code",
   "execution_count": 64,
   "metadata": {},
   "outputs": [],
   "source": [
    "# Bagging Algorithms contains two sub types of it.\n",
    "# 1) ExtraTreeClassifier.\n",
    "# 2) RandomForestClassifier."
   ]
  },
  {
   "cell_type": "markdown",
   "metadata": {},
   "source": [
    "### 1) Building the ExtraTreeClassifier model."
   ]
  },
  {
   "cell_type": "code",
   "execution_count": 68,
   "metadata": {},
   "outputs": [],
   "source": [
    "from sklearn.ensemble import ExtraTreesClassifier\n",
    "\n",
    "# Build the model\n",
    "model = ExtraTreesClassifier(n_estimators = 10, random_state=10)\n",
    "\n",
    "# Train the model\n",
    "model.fit(X_train, Y_train)\n",
    "\n",
    "# predict using model\n",
    "Y_pred = model.predict(X_test)"
   ]
  },
  {
   "cell_type": "code",
   "execution_count": 69,
   "metadata": {},
   "outputs": [
    {
     "name": "stdout",
     "output_type": "stream",
     "text": [
      "[(2, 2), (2, 2), (2, 2), (2, 2), (1, 1), (2, 2), (0, 0), (0, 0), (2, 2), (0, 0), (2, 2), (2, 2), (2, 2), (2, 2), (0, 0), (0, 0), (2, 2), (2, 2), (2, 2), (2, 2), (2, 2), (2, 2), (2, 2), (2, 2), (2, 2), (2, 2), (2, 2), (0, 0), (2, 2), (2, 2), (2, 2), (2, 2), (2, 2), (0, 0), (2, 2), (2, 2), (2, 2), (2, 2), (2, 2), (0, 0), (2, 2), (2, 2), (2, 2), (3, 3), (2, 0), (0, 0), (2, 2), (2, 2), (2, 2), (2, 2), (2, 2), (0, 0), (1, 1), (3, 3), (1, 1), (2, 2), (0, 0), (2, 2), (0, 0), (2, 2), (2, 2), (2, 2), (2, 2), (3, 3), (2, 2), (2, 2), (0, 0), (0, 0), (2, 2), (2, 2), (3, 3), (2, 2), (2, 2), (2, 2), (1, 1), (2, 2), (0, 0), (3, 0), (2, 2), (2, 2), (2, 2), (2, 2), (2, 2), (2, 2), (2, 2), (2, 2), (2, 2), (0, 0), (2, 2), (0, 2), (2, 2), (2, 2), (2, 2), (2, 0), (2, 2), (2, 2), (2, 2), (2, 2), (2, 2), (2, 2), (2, 2), (2, 2), (2, 2), (2, 2), (0, 0), (2, 2), (2, 2), (2, 2), (2, 2), (2, 2), (2, 2), (2, 2), (2, 2), (2, 2), (0, 1), (2, 2), (2, 2), (1, 1), (2, 2), (2, 2), (2, 2), (2, 2), (2, 2), (2, 2), (0, 0), (2, 2), (2, 2), (2, 2), (2, 2), (2, 2), (2, 2), (2, 2), (2, 2), (2, 2), (0, 0), (2, 2), (2, 2), (3, 3), (2, 2), (2, 2), (0, 0), (2, 2), (0, 0), (3, 3), (2, 2), (2, 0), (2, 2), (2, 2), (2, 2), (2, 2), (2, 2), (2, 2), (3, 3), (2, 2), (2, 2), (2, 2), (2, 2), (2, 2), (1, 1), (1, 1), (2, 2), (0, 0), (2, 2), (2, 2), (2, 2), (2, 0), (2, 2), (2, 2), (2, 2), (2, 2), (2, 2), (1, 1), (2, 0), (3, 3), (2, 2), (2, 2), (2, 2), (2, 2), (0, 0), (0, 0), (2, 2), (2, 2), (2, 2), (2, 2), (3, 3), (2, 2), (0, 2), (2, 2), (1, 1), (0, 2), (2, 2), (2, 2), (2, 2), (2, 2), (0, 0), (3, 3), (0, 0), (0, 0), (2, 2), (2, 2), (2, 2), (2, 2), (0, 0), (2, 2), (2, 0), (2, 0), (2, 2), (2, 2), (2, 2), (2, 2), (3, 3), (0, 0), (2, 2), (2, 2), (2, 2), (3, 3), (2, 2), (2, 2), (1, 1), (2, 2), (2, 2), (2, 2), (2, 2), (2, 2), (2, 2), (2, 2), (0, 0), (2, 2), (2, 2), (2, 2), (2, 2), (2, 2), (0, 0), (0, 0), (2, 2), (2, 2), (2, 2), (2, 2), (3, 3), (2, 2), (2, 2), (0, 0), (2, 2), (0, 0), (2, 2), (0, 0), (2, 2), (2, 2), (2, 2), (2, 2), (2, 2), (0, 0), (2, 2), (2, 2), (2, 2), (0, 0), (2, 2), (2, 2), (0, 0), (2, 2), (2, 2), (2, 2), (0, 0), (2, 2), (2, 2), (2, 2), (0, 0), (2, 2), (2, 2), (0, 2), (2, 2), (2, 2), (2, 2), (1, 1), (1, 1), (2, 2), (2, 2), (2, 2), (0, 0), (0, 0), (2, 2), (0, 0), (3, 3), (3, 3), (0, 0), (2, 0), (0, 0), (2, 2), (2, 2), (2, 2), (3, 1), (2, 2), (2, 2), (0, 0), (2, 2), (2, 2), (2, 2), (2, 2), (2, 2), (0, 2), (2, 2), (2, 2), (2, 2), (3, 3), (2, 2), (2, 0), (2, 2), (0, 0), (2, 2), (2, 2), (2, 2), (2, 2), (0, 0), (0, 0), (2, 2), (2, 2), (1, 0), (2, 2), (2, 2), (2, 2), (0, 0), (2, 2), (2, 2), (0, 0), (0, 0), (2, 2), (0, 0), (0, 0), (2, 2), (2, 0), (0, 0), (0, 0), (2, 2), (2, 2), (2, 2), (2, 2), (2, 2), (0, 0), (2, 2), (2, 2), (2, 2), (0, 0), (2, 2), (2, 2), (2, 2), (2, 2), (2, 2), (2, 2), (2, 2), (2, 2), (1, 1), (3, 3), (3, 3), (2, 2), (2, 2), (2, 2), (2, 2), (0, 0), (2, 2), (2, 0), (2, 2), (3, 3), (2, 2), (2, 2), (1, 1), (2, 2), (1, 1), (2, 2), (2, 2), (2, 2), (0, 0), (0, 0), (2, 2), (2, 2), (2, 2), (2, 2), (2, 2), (2, 2), (2, 2), (0, 0), (2, 2), (0, 0), (1, 1), (2, 2), (2, 2), (2, 2), (2, 2), (2, 2), (0, 0), (2, 2), (2, 2), (3, 3), (0, 0), (0, 0), (0, 0), (0, 0), (2, 2), (0, 0), (2, 2), (2, 2), (2, 2), (0, 0), (0, 1), (2, 2), (0, 0), (2, 2), (1, 1), (0, 0), (2, 2), (2, 2), (0, 0), (2, 2), (2, 2), (2, 2), (0, 0), (1, 0), (2, 2), (0, 0), (0, 0), (2, 2), (0, 0), (2, 2), (2, 2), (2, 2), (2, 2), (2, 2), (2, 2), (2, 2), (2, 2), (2, 2), (2, 2), (2, 2), (2, 2), (0, 0), (2, 2), (2, 2), (3, 0), (2, 2), (2, 2), (2, 2), (2, 2), (0, 0), (2, 2), (2, 0), (2, 2), (0, 0), (2, 2), (2, 2), (2, 0), (0, 0), (2, 2), (2, 2), (2, 2), (0, 0), (2, 2), (2, 2), (0, 0), (3, 3), (2, 2), (2, 2), (2, 2), (2, 2), (1, 1), (2, 2), (2, 2), (2, 2), (2, 2), (2, 2), (2, 0), (0, 0), (2, 2), (0, 0), (2, 2), (0, 0), (2, 2), (2, 2), (2, 2), (2, 2), (0, 0), (2, 2), (2, 2), (2, 2), (2, 2), (2, 0), (2, 2), (2, 2), (2, 2), (2, 2), (1, 1), (2, 2), (2, 2), (2, 2), (2, 2), (2, 2), (0, 0), (0, 0), (2, 2), (2, 0), (2, 2), (0, 0), (2, 2), (2, 2), (2, 2), (2, 2), (2, 2), (0, 0), (2, 2), (0, 0), (2, 2), (2, 2), (0, 0), (2, 2), (0, 0), (2, 2), (2, 0), (2, 2), (3, 3), (2, 2), (0, 0)]\n"
     ]
    }
   ],
   "source": [
    "print(list(zip(Y_test, Y_pred)))"
   ]
  },
  {
   "cell_type": "markdown",
   "metadata": {},
   "source": [
    "### Evaluating the ExtraTreesClassifier model."
   ]
  },
  {
   "cell_type": "code",
   "execution_count": 70,
   "metadata": {},
   "outputs": [
    {
     "name": "stdout",
     "output_type": "stream",
     "text": [
      "Confusion Matrix = \n",
      "[[ 95   2   5   0]\n",
      " [  2  19   0   0]\n",
      " [ 17   0 354   0]\n",
      " [  2   1   0  22]] \n",
      "\n",
      "Accuracy Score =  0.9441233140655106 \n",
      "\n",
      "Classification Report = \n",
      "              precision    recall  f1-score   support\n",
      "\n",
      "           0       0.82      0.93      0.87       102\n",
      "           1       0.86      0.90      0.88        21\n",
      "           2       0.99      0.95      0.97       371\n",
      "           3       1.00      0.88      0.94        25\n",
      "\n",
      "    accuracy                           0.94       519\n",
      "   macro avg       0.92      0.92      0.92       519\n",
      "weighted avg       0.95      0.94      0.95       519\n",
      "\n"
     ]
    }
   ],
   "source": [
    "from sklearn.metrics import confusion_matrix, accuracy_score, classification_report\n",
    "\n",
    "print(\"Confusion Matrix = \")\n",
    "print(confusion_matrix(Y_test,Y_pred), \"\\n\")\n",
    "print(\"Accuracy Score = \", accuracy_score(Y_test, Y_pred), \"\\n\")\n",
    "print(\"Classification Report = \")\n",
    "print(classification_report(Y_test, Y_pred))"
   ]
  },
  {
   "cell_type": "markdown",
   "metadata": {},
   "source": [
    "### Tunning the ExtraTreesClassifier."
   ]
  },
  {
   "cell_type": "code",
   "execution_count": 71,
   "metadata": {},
   "outputs": [],
   "source": [
    "# One of the easiest method to tunn the ExtraTreesClassifier is to change the number of n_estimators."
   ]
  },
  {
   "cell_type": "code",
   "execution_count": 73,
   "metadata": {},
   "outputs": [],
   "source": [
    "from sklearn.ensemble import ExtraTreesClassifier\n",
    "\n",
    "# Build the model\n",
    "model = ExtraTreesClassifier(n_estimators = 100, random_state = 10)\n",
    "\n",
    "# Train the model\n",
    "model.fit(X_train, Y_train)\n",
    "\n",
    "# Predict using model.\n",
    "Y_pred = model.predict(X_test)"
   ]
  },
  {
   "cell_type": "code",
   "execution_count": 74,
   "metadata": {},
   "outputs": [
    {
     "name": "stdout",
     "output_type": "stream",
     "text": [
      "[(2, 2), (2, 2), (2, 2), (2, 2), (1, 0), (2, 2), (0, 0), (0, 0), (2, 2), (0, 0), (2, 2), (2, 2), (2, 2), (2, 2), (0, 0), (0, 0), (2, 2), (2, 2), (2, 2), (2, 2), (2, 2), (2, 2), (2, 2), (2, 2), (2, 2), (2, 2), (2, 2), (0, 0), (2, 2), (2, 2), (2, 2), (2, 2), (2, 2), (0, 0), (2, 2), (2, 2), (2, 2), (2, 2), (2, 2), (0, 0), (2, 2), (2, 2), (2, 2), (3, 3), (2, 2), (0, 0), (2, 2), (2, 2), (2, 2), (2, 2), (2, 2), (0, 0), (1, 1), (3, 3), (1, 1), (2, 2), (0, 0), (2, 2), (0, 0), (2, 2), (2, 2), (2, 2), (2, 2), (3, 3), (2, 2), (2, 2), (0, 0), (0, 0), (2, 2), (2, 2), (3, 3), (2, 2), (2, 2), (2, 2), (1, 1), (2, 2), (0, 0), (3, 0), (2, 2), (2, 2), (2, 2), (2, 2), (2, 2), (2, 2), (2, 2), (2, 2), (2, 2), (0, 0), (2, 2), (0, 0), (2, 2), (2, 2), (2, 2), (2, 2), (2, 2), (2, 2), (2, 2), (2, 2), (2, 2), (2, 2), (2, 2), (2, 2), (2, 2), (2, 2), (0, 0), (2, 2), (2, 2), (2, 2), (2, 2), (2, 2), (2, 2), (2, 2), (2, 2), (2, 2), (0, 1), (2, 2), (2, 2), (1, 1), (2, 2), (2, 2), (2, 2), (2, 2), (2, 2), (2, 2), (0, 0), (2, 2), (2, 2), (2, 2), (2, 2), (2, 2), (2, 2), (2, 2), (2, 2), (2, 2), (0, 0), (2, 2), (2, 2), (3, 3), (2, 2), (2, 2), (0, 0), (2, 2), (0, 0), (3, 3), (2, 2), (2, 0), (2, 2), (2, 2), (2, 2), (2, 2), (2, 2), (2, 2), (3, 3), (2, 2), (2, 2), (2, 2), (2, 2), (2, 2), (1, 1), (1, 1), (2, 2), (0, 0), (2, 2), (2, 2), (2, 2), (2, 2), (2, 2), (2, 2), (2, 2), (2, 2), (2, 2), (1, 1), (2, 2), (3, 3), (2, 2), (2, 2), (2, 2), (2, 2), (0, 0), (0, 0), (2, 2), (2, 2), (2, 2), (2, 2), (3, 3), (2, 2), (0, 0), (2, 2), (1, 1), (0, 0), (2, 2), (2, 2), (2, 2), (2, 2), (0, 0), (3, 3), (0, 0), (0, 0), (2, 2), (2, 2), (2, 2), (2, 2), (0, 0), (2, 2), (2, 2), (2, 2), (2, 2), (2, 2), (2, 2), (2, 2), (3, 3), (0, 0), (2, 2), (2, 2), (2, 2), (3, 3), (2, 2), (2, 2), (1, 1), (2, 2), (2, 2), (2, 2), (2, 2), (2, 2), (2, 2), (2, 2), (0, 0), (2, 2), (2, 2), (2, 2), (2, 2), (2, 2), (0, 0), (0, 0), (2, 2), (2, 2), (2, 2), (2, 2), (3, 3), (2, 2), (2, 2), (0, 0), (2, 2), (0, 0), (2, 2), (0, 0), (2, 2), (2, 2), (2, 2), (2, 2), (2, 2), (0, 0), (2, 2), (2, 2), (2, 2), (0, 0), (2, 2), (2, 2), (0, 0), (2, 2), (2, 2), (2, 2), (0, 0), (2, 2), (2, 2), (2, 2), (0, 0), (2, 2), (2, 2), (0, 0), (2, 2), (2, 2), (2, 2), (1, 1), (1, 1), (2, 2), (2, 2), (2, 2), (0, 0), (0, 0), (2, 2), (0, 0), (3, 3), (3, 3), (0, 0), (2, 2), (0, 0), (2, 2), (2, 2), (2, 2), (3, 1), (2, 2), (2, 2), (0, 0), (2, 2), (2, 2), (2, 2), (2, 2), (2, 2), (0, 0), (2, 2), (2, 2), (2, 2), (3, 3), (2, 2), (2, 2), (2, 2), (0, 0), (2, 2), (2, 2), (2, 2), (2, 2), (0, 0), (0, 0), (2, 2), (2, 2), (1, 1), (2, 2), (2, 2), (2, 2), (0, 0), (2, 2), (2, 2), (0, 0), (0, 0), (2, 2), (0, 0), (0, 0), (2, 2), (2, 2), (0, 0), (0, 0), (2, 2), (2, 2), (2, 2), (2, 2), (2, 2), (0, 0), (2, 2), (2, 2), (2, 2), (0, 0), (2, 2), (2, 2), (2, 2), (2, 2), (2, 2), (2, 2), (2, 2), (2, 2), (1, 1), (3, 3), (3, 3), (2, 2), (2, 2), (2, 2), (2, 2), (0, 0), (2, 2), (2, 2), (2, 2), (3, 3), (2, 2), (2, 2), (1, 1), (2, 2), (1, 1), (2, 2), (2, 2), (2, 2), (0, 0), (0, 0), (2, 2), (2, 2), (2, 2), (2, 2), (2, 2), (2, 2), (2, 2), (0, 0), (2, 2), (0, 0), (1, 1), (2, 2), (2, 2), (2, 2), (2, 2), (2, 2), (0, 0), (2, 2), (2, 2), (3, 3), (0, 0), (0, 0), (0, 0), (0, 0), (2, 2), (0, 0), (2, 2), (2, 2), (2, 2), (0, 0), (0, 0), (2, 2), (0, 0), (2, 2), (1, 1), (0, 0), (2, 2), (2, 2), (0, 0), (2, 2), (2, 2), (2, 2), (0, 0), (1, 0), (2, 2), (0, 0), (0, 0), (2, 2), (0, 0), (2, 2), (2, 2), (2, 2), (2, 2), (2, 2), (2, 2), (2, 2), (2, 2), (2, 2), (2, 2), (2, 2), (2, 2), (0, 0), (2, 2), (2, 2), (3, 1), (2, 2), (2, 2), (2, 2), (2, 2), (0, 0), (2, 2), (2, 2), (2, 2), (0, 0), (2, 2), (2, 2), (2, 2), (0, 0), (2, 2), (2, 2), (2, 2), (0, 0), (2, 2), (2, 2), (0, 0), (3, 3), (2, 2), (2, 2), (2, 2), (2, 2), (1, 0), (2, 2), (2, 2), (2, 2), (2, 2), (2, 2), (2, 2), (0, 0), (2, 2), (0, 0), (2, 2), (0, 0), (2, 2), (2, 2), (2, 2), (2, 2), (0, 0), (2, 2), (2, 2), (2, 2), (2, 2), (2, 2), (2, 2), (2, 2), (2, 2), (2, 2), (1, 1), (2, 2), (2, 2), (2, 2), (2, 2), (2, 2), (0, 0), (0, 0), (2, 2), (2, 2), (2, 2), (0, 0), (2, 2), (2, 2), (2, 2), (2, 2), (2, 2), (0, 0), (2, 2), (0, 0), (2, 2), (2, 2), (0, 0), (2, 2), (0, 0), (2, 2), (2, 2), (2, 2), (3, 3), (2, 2), (0, 0)]\n"
     ]
    }
   ],
   "source": [
    "print(list(zip(Y_test, Y_pred)))"
   ]
  },
  {
   "cell_type": "markdown",
   "metadata": {},
   "source": [
    "### Evaluating Tunned ExtraTreesClassifier model."
   ]
  },
  {
   "cell_type": "code",
   "execution_count": 75,
   "metadata": {},
   "outputs": [
    {
     "name": "stdout",
     "output_type": "stream",
     "text": [
      "Confusion Matrix = \n",
      "[[101   1   0   0]\n",
      " [  3  18   0   0]\n",
      " [  1   0 370   0]\n",
      " [  1   2   0  22]] \n",
      "\n",
      "Accuracy Score =  0.9845857418111753 \n",
      "\n",
      "Classification Report = \n",
      "              precision    recall  f1-score   support\n",
      "\n",
      "           0       0.95      0.99      0.97       102\n",
      "           1       0.86      0.86      0.86        21\n",
      "           2       1.00      1.00      1.00       371\n",
      "           3       1.00      0.88      0.94        25\n",
      "\n",
      "    accuracy                           0.98       519\n",
      "   macro avg       0.95      0.93      0.94       519\n",
      "weighted avg       0.98      0.98      0.98       519\n",
      "\n"
     ]
    }
   ],
   "source": [
    "from sklearn.metrics import confusion_matrix, accuracy_score, classification_report\n",
    "\n",
    "print(\"Confusion Matrix = \")\n",
    "print(confusion_matrix(Y_test, Y_pred), \"\\n\")\n",
    "print(\"Accuracy Score = \", accuracy_score(Y_test, Y_pred), \"\\n\")\n",
    "print(\"Classification Report = \")\n",
    "print(classification_report(Y_test, Y_pred))"
   ]
  },
  {
   "cell_type": "code",
   "execution_count": 76,
   "metadata": {},
   "outputs": [],
   "source": [
    "# Thus from above two classifier we can see that accuracy for both model is :\n",
    "# 1) Basic ExtraTreesClassifier = 94.41 %\n",
    "# 2) Tunned ExtraTreesClassifier = 98.45 %"
   ]
  },
  {
   "cell_type": "markdown",
   "metadata": {},
   "source": [
    "### 2) Building the RandomForestClassifier."
   ]
  },
  {
   "cell_type": "code",
   "execution_count": 77,
   "metadata": {},
   "outputs": [],
   "source": [
    "from sklearn.ensemble import RandomForestClassifier\n",
    "\n",
    "# Build the model\n",
    "model_forest = RandomForestClassifier(n_estimators = 101, random_state = 10)\n",
    "\n",
    "# Train the model\n",
    "model_forest.fit(X_train, Y_train)\n",
    "\n",
    "# Predict using model\n",
    "Y_pred = model_forest.predict(X_test)"
   ]
  },
  {
   "cell_type": "code",
   "execution_count": 78,
   "metadata": {},
   "outputs": [
    {
     "name": "stdout",
     "output_type": "stream",
     "text": [
      "[(2, 2), (2, 2), (2, 2), (2, 2), (1, 1), (2, 2), (0, 0), (0, 0), (2, 2), (0, 0), (2, 2), (2, 2), (2, 2), (2, 2), (0, 0), (0, 0), (2, 2), (2, 2), (2, 2), (2, 2), (2, 2), (2, 2), (2, 2), (2, 2), (2, 2), (2, 2), (2, 2), (0, 0), (2, 2), (2, 2), (2, 2), (2, 2), (2, 2), (0, 0), (2, 2), (2, 2), (2, 2), (2, 2), (2, 2), (0, 0), (2, 2), (2, 2), (2, 2), (3, 3), (2, 2), (0, 0), (2, 2), (2, 2), (2, 2), (2, 2), (2, 2), (0, 0), (1, 1), (3, 3), (1, 1), (2, 2), (0, 0), (2, 2), (0, 0), (2, 2), (2, 2), (2, 2), (2, 2), (3, 3), (2, 2), (2, 2), (0, 0), (0, 0), (2, 2), (2, 2), (3, 3), (2, 2), (2, 2), (2, 2), (1, 1), (2, 2), (0, 0), (3, 0), (2, 2), (2, 2), (2, 2), (2, 2), (2, 2), (2, 2), (2, 2), (2, 2), (2, 2), (0, 0), (2, 2), (0, 0), (2, 2), (2, 2), (2, 2), (2, 0), (2, 2), (2, 2), (2, 2), (2, 2), (2, 2), (2, 2), (2, 2), (2, 2), (2, 2), (2, 2), (0, 0), (2, 2), (2, 2), (2, 2), (2, 2), (2, 2), (2, 2), (2, 2), (2, 2), (2, 2), (0, 1), (2, 2), (2, 2), (1, 1), (2, 2), (2, 2), (2, 2), (2, 2), (2, 2), (2, 2), (0, 0), (2, 2), (2, 2), (2, 2), (2, 2), (2, 2), (2, 2), (2, 2), (2, 2), (2, 2), (0, 0), (2, 2), (2, 2), (3, 3), (2, 2), (2, 2), (0, 0), (2, 2), (0, 0), (3, 3), (2, 2), (2, 2), (2, 2), (2, 2), (2, 2), (2, 2), (2, 2), (2, 2), (3, 3), (2, 2), (2, 2), (2, 2), (2, 2), (2, 2), (1, 1), (1, 1), (2, 2), (0, 0), (2, 2), (2, 2), (2, 2), (2, 2), (2, 2), (2, 2), (2, 2), (2, 2), (2, 2), (1, 1), (2, 2), (3, 3), (2, 2), (2, 2), (2, 2), (2, 2), (0, 0), (0, 0), (2, 2), (2, 2), (2, 2), (2, 2), (3, 3), (2, 2), (0, 0), (2, 2), (1, 1), (0, 0), (2, 2), (2, 2), (2, 2), (2, 2), (0, 0), (3, 3), (0, 0), (0, 0), (2, 2), (2, 2), (2, 2), (2, 2), (0, 0), (2, 2), (2, 2), (2, 2), (2, 2), (2, 2), (2, 2), (2, 2), (3, 3), (0, 0), (2, 2), (2, 2), (2, 2), (3, 0), (2, 2), (2, 2), (1, 1), (2, 2), (2, 2), (2, 2), (2, 2), (2, 2), (2, 2), (2, 2), (0, 0), (2, 2), (2, 2), (2, 2), (2, 2), (2, 2), (0, 0), (0, 0), (2, 2), (2, 2), (2, 2), (2, 2), (3, 3), (2, 2), (2, 2), (0, 0), (2, 2), (0, 0), (2, 2), (0, 0), (2, 2), (2, 2), (2, 2), (2, 2), (2, 2), (0, 0), (2, 2), (2, 2), (2, 2), (0, 0), (2, 2), (2, 2), (0, 0), (2, 2), (2, 2), (2, 2), (0, 0), (2, 2), (2, 2), (2, 2), (0, 0), (2, 2), (2, 2), (0, 0), (2, 2), (2, 2), (2, 2), (1, 1), (1, 1), (2, 2), (2, 2), (2, 2), (0, 0), (0, 0), (2, 2), (0, 0), (3, 3), (3, 3), (0, 0), (2, 2), (0, 0), (2, 2), (2, 2), (2, 2), (3, 3), (2, 2), (2, 2), (0, 0), (2, 2), (2, 2), (2, 2), (2, 2), (2, 2), (0, 0), (2, 2), (2, 2), (2, 2), (3, 3), (2, 2), (2, 2), (2, 2), (0, 0), (2, 2), (2, 2), (2, 2), (2, 2), (0, 0), (0, 0), (2, 2), (2, 2), (1, 1), (2, 2), (2, 2), (2, 2), (0, 0), (2, 2), (2, 2), (0, 0), (0, 0), (2, 2), (0, 0), (0, 0), (2, 2), (2, 2), (0, 0), (0, 0), (2, 2), (2, 2), (2, 2), (2, 2), (2, 2), (0, 0), (2, 2), (2, 2), (2, 2), (0, 0), (2, 2), (2, 2), (2, 2), (2, 2), (2, 2), (2, 2), (2, 2), (2, 2), (1, 1), (3, 3), (3, 3), (2, 2), (2, 2), (2, 2), (2, 2), (0, 0), (2, 2), (2, 2), (2, 2), (3, 3), (2, 2), (2, 2), (1, 0), (2, 2), (1, 1), (2, 2), (2, 2), (2, 2), (0, 0), (0, 0), (2, 2), (2, 2), (2, 2), (2, 2), (2, 2), (2, 2), (2, 2), (0, 0), (2, 2), (0, 0), (1, 1), (2, 2), (2, 2), (2, 2), (2, 2), (2, 2), (0, 0), (2, 2), (2, 2), (3, 3), (0, 0), (0, 0), (0, 0), (0, 0), (2, 2), (0, 0), (2, 2), (2, 2), (2, 2), (0, 0), (0, 1), (2, 2), (0, 0), (2, 2), (1, 1), (0, 0), (2, 2), (2, 2), (0, 0), (2, 2), (2, 2), (2, 2), (0, 0), (1, 1), (2, 2), (0, 0), (0, 0), (2, 2), (0, 0), (2, 2), (2, 2), (2, 2), (2, 2), (2, 2), (2, 2), (2, 2), (2, 2), (2, 2), (2, 2), (2, 2), (2, 2), (0, 0), (2, 2), (2, 2), (3, 3), (2, 2), (2, 2), (2, 2), (2, 2), (0, 0), (2, 2), (2, 2), (2, 2), (0, 0), (2, 2), (2, 2), (2, 2), (0, 0), (2, 2), (2, 2), (2, 2), (0, 0), (2, 2), (2, 2), (0, 0), (3, 3), (2, 2), (2, 2), (2, 2), (2, 2), (1, 3), (2, 2), (2, 2), (2, 2), (2, 2), (2, 2), (2, 2), (0, 0), (2, 2), (0, 0), (2, 2), (0, 0), (2, 2), (2, 2), (2, 2), (2, 2), (0, 0), (2, 2), (2, 2), (2, 2), (2, 2), (2, 2), (2, 2), (2, 2), (2, 2), (2, 2), (1, 1), (2, 2), (2, 2), (2, 2), (2, 2), (2, 2), (0, 0), (0, 0), (2, 2), (2, 2), (2, 2), (0, 1), (2, 2), (2, 2), (2, 2), (2, 2), (2, 2), (0, 0), (2, 2), (0, 0), (2, 2), (2, 2), (0, 0), (2, 2), (0, 0), (2, 2), (2, 0), (2, 2), (3, 3), (2, 2), (0, 0)]\n"
     ]
    }
   ],
   "source": [
    "print(list(zip(Y_test, Y_pred)))"
   ]
  },
  {
   "cell_type": "markdown",
   "metadata": {},
   "source": [
    "### Evaluating RandomForestClassifier model"
   ]
  },
  {
   "cell_type": "code",
   "execution_count": 79,
   "metadata": {},
   "outputs": [
    {
     "name": "stdout",
     "output_type": "stream",
     "text": [
      "Confusion Matrix = \n",
      "[[ 99   3   0   0]\n",
      " [  1  19   0   1]\n",
      " [  2   0 369   0]\n",
      " [  2   0   0  23]]\n",
      "Accuracy Score =  0.9826589595375722 \n",
      "\n",
      "Classification Report = \n",
      "              precision    recall  f1-score   support\n",
      "\n",
      "           0       0.95      0.97      0.96       102\n",
      "           1       0.86      0.90      0.88        21\n",
      "           2       1.00      0.99      1.00       371\n",
      "           3       0.96      0.92      0.94        25\n",
      "\n",
      "    accuracy                           0.98       519\n",
      "   macro avg       0.94      0.95      0.95       519\n",
      "weighted avg       0.98      0.98      0.98       519\n",
      "\n"
     ]
    }
   ],
   "source": [
    "from sklearn.metrics import confusion_matrix, accuracy_score, classification_report\n",
    "\n",
    "print(\"Confusion Matrix = \")\n",
    "print(confusion_matrix(Y_test, Y_pred))\n",
    "print(\"Accuracy Score = \", accuracy_score(Y_test, Y_pred), \"\\n\")\n",
    "print(\"Classification Report = \")\n",
    "print(classification_report(Y_test, Y_pred))"
   ]
  },
  {
   "cell_type": "code",
   "execution_count": 80,
   "metadata": {},
   "outputs": [],
   "source": [
    "# Thus from above three classifier we can see that accuracy for all these model is :\n",
    "# 1) Basic ExtraTreesClassifier  = 94.41 %\n",
    "# 2) Tunned ExtraTreesClassifier = 98.45 %\n",
    "# 3) RandomForestClassifier      = 98.26 %"
   ]
  },
  {
   "cell_type": "markdown",
   "metadata": {},
   "source": [
    "## Employing Boosting Algorithms."
   ]
  },
  {
   "cell_type": "code",
   "execution_count": 81,
   "metadata": {},
   "outputs": [],
   "source": [
    "# Boosting Algorithms contain two sub types of it :\n",
    "# 1) AdaBoostClassifier\n",
    "# 2) GradientBoostingClassifier"
   ]
  },
  {
   "cell_type": "markdown",
   "metadata": {},
   "source": [
    "### 1) Building the AdaBoostClassifier model."
   ]
  },
  {
   "cell_type": "code",
   "execution_count": 82,
   "metadata": {},
   "outputs": [],
   "source": [
    "from sklearn.ensemble import AdaBoostClassifier\n",
    "\n",
    "# Build the model\n",
    "model_AdaBoost = AdaBoostClassifier(base_estimator=DecisionTreeClassifier(random_state=10),\n",
    "                                   n_estimators = 10, random_state = 10)\n",
    "\n",
    "# Train the model\n",
    "model_AdaBoost.fit(X_train, Y_train)\n",
    "\n",
    "# Predict using model\n",
    "Y_pred = model_AdaBoost.predict(X_test)"
   ]
  },
  {
   "cell_type": "code",
   "execution_count": 83,
   "metadata": {},
   "outputs": [
    {
     "name": "stdout",
     "output_type": "stream",
     "text": [
      "[(2, 2), (2, 2), (2, 2), (2, 2), (1, 1), (2, 2), (0, 0), (0, 0), (2, 2), (0, 0), (2, 2), (2, 2), (2, 2), (2, 2), (0, 0), (0, 0), (2, 2), (2, 2), (2, 2), (2, 2), (2, 2), (2, 2), (2, 2), (2, 2), (2, 2), (2, 2), (2, 2), (0, 0), (2, 2), (2, 2), (2, 2), (2, 2), (2, 2), (0, 0), (2, 2), (2, 2), (2, 2), (2, 2), (2, 2), (0, 0), (2, 2), (2, 2), (2, 2), (3, 3), (2, 2), (0, 0), (2, 2), (2, 2), (2, 2), (2, 2), (2, 2), (0, 0), (1, 1), (3, 3), (1, 1), (2, 2), (0, 0), (2, 2), (0, 0), (2, 2), (2, 2), (2, 2), (2, 2), (3, 3), (2, 2), (2, 2), (0, 0), (0, 0), (2, 2), (2, 2), (3, 3), (2, 2), (2, 2), (2, 2), (1, 1), (2, 2), (0, 0), (3, 0), (2, 2), (2, 2), (2, 2), (2, 2), (2, 2), (2, 2), (2, 2), (2, 2), (2, 2), (0, 0), (2, 2), (0, 0), (2, 2), (2, 2), (2, 2), (2, 2), (2, 2), (2, 2), (2, 2), (2, 2), (2, 2), (2, 2), (2, 2), (2, 2), (2, 2), (2, 2), (0, 0), (2, 2), (2, 2), (2, 2), (2, 2), (2, 2), (2, 2), (2, 2), (2, 2), (2, 2), (0, 0), (2, 2), (2, 2), (1, 1), (2, 2), (2, 2), (2, 2), (2, 2), (2, 2), (2, 2), (0, 0), (2, 2), (2, 2), (2, 2), (2, 2), (2, 2), (2, 2), (2, 2), (2, 2), (2, 2), (0, 0), (2, 2), (2, 2), (3, 3), (2, 2), (2, 2), (0, 0), (2, 2), (0, 0), (3, 3), (2, 2), (2, 2), (2, 2), (2, 2), (2, 2), (2, 2), (2, 2), (2, 2), (3, 3), (2, 2), (2, 2), (2, 2), (2, 2), (2, 2), (1, 1), (1, 1), (2, 2), (0, 0), (2, 2), (2, 2), (2, 2), (2, 2), (2, 2), (2, 2), (2, 2), (2, 2), (2, 2), (1, 1), (2, 2), (3, 3), (2, 2), (2, 2), (2, 2), (2, 2), (0, 0), (0, 0), (2, 2), (2, 2), (2, 2), (2, 2), (3, 3), (2, 2), (0, 0), (2, 2), (1, 1), (0, 0), (2, 2), (2, 2), (2, 2), (2, 2), (0, 0), (3, 3), (0, 0), (0, 0), (2, 2), (2, 2), (2, 2), (2, 2), (0, 0), (2, 2), (2, 2), (2, 2), (2, 2), (2, 2), (2, 2), (2, 2), (3, 3), (0, 0), (2, 2), (2, 2), (2, 2), (3, 3), (2, 2), (2, 2), (1, 0), (2, 2), (2, 2), (2, 2), (2, 2), (2, 2), (2, 2), (2, 2), (0, 0), (2, 2), (2, 2), (2, 2), (2, 2), (2, 2), (0, 0), (0, 0), (2, 2), (2, 2), (2, 2), (2, 2), (3, 3), (2, 2), (2, 2), (0, 0), (2, 2), (0, 0), (2, 2), (0, 0), (2, 2), (2, 2), (2, 2), (2, 2), (2, 2), (0, 0), (2, 2), (2, 2), (2, 2), (0, 0), (2, 2), (2, 2), (0, 0), (2, 2), (2, 2), (2, 2), (0, 0), (2, 2), (2, 2), (2, 2), (0, 0), (2, 2), (2, 2), (0, 0), (2, 2), (2, 2), (2, 2), (1, 1), (1, 1), (2, 2), (2, 2), (2, 2), (0, 0), (0, 2), (2, 2), (0, 0), (3, 3), (3, 3), (0, 0), (2, 2), (0, 0), (2, 2), (2, 2), (2, 2), (3, 3), (2, 2), (2, 2), (0, 0), (2, 2), (2, 2), (2, 2), (2, 2), (2, 2), (0, 0), (2, 2), (2, 2), (2, 2), (3, 3), (2, 2), (2, 2), (2, 2), (0, 0), (2, 2), (2, 2), (2, 2), (2, 2), (0, 0), (0, 0), (2, 2), (2, 2), (1, 1), (2, 2), (2, 2), (2, 2), (0, 0), (2, 2), (2, 2), (0, 0), (0, 0), (2, 2), (0, 0), (0, 0), (2, 2), (2, 2), (0, 0), (0, 0), (2, 2), (2, 2), (2, 2), (2, 2), (2, 2), (0, 0), (2, 2), (2, 2), (2, 2), (0, 0), (2, 2), (2, 2), (2, 2), (2, 2), (2, 2), (2, 2), (2, 2), (2, 2), (1, 1), (3, 3), (3, 3), (2, 2), (2, 2), (2, 2), (2, 2), (0, 0), (2, 2), (2, 2), (2, 2), (3, 3), (2, 2), (2, 2), (1, 0), (2, 2), (1, 1), (2, 2), (2, 2), (2, 2), (0, 0), (0, 0), (2, 2), (2, 2), (2, 2), (2, 2), (2, 2), (2, 2), (2, 2), (0, 0), (2, 2), (0, 0), (1, 1), (2, 2), (2, 2), (2, 2), (2, 2), (2, 2), (0, 0), (2, 2), (2, 2), (3, 3), (0, 0), (0, 0), (0, 0), (0, 0), (2, 2), (0, 1), (2, 2), (2, 2), (2, 2), (0, 0), (0, 0), (2, 2), (0, 0), (2, 2), (1, 1), (0, 0), (2, 2), (2, 2), (0, 0), (2, 2), (2, 2), (2, 2), (0, 0), (1, 0), (2, 2), (0, 0), (0, 0), (2, 2), (0, 0), (2, 2), (2, 2), (2, 2), (2, 2), (2, 2), (2, 2), (2, 2), (2, 2), (2, 2), (2, 2), (2, 2), (2, 2), (0, 0), (2, 2), (2, 2), (3, 3), (2, 2), (2, 2), (2, 2), (2, 2), (0, 0), (2, 2), (2, 2), (2, 2), (0, 0), (2, 2), (2, 2), (2, 2), (0, 0), (2, 2), (2, 2), (2, 2), (0, 0), (2, 2), (2, 2), (0, 0), (3, 3), (2, 2), (2, 2), (2, 2), (2, 2), (1, 0), (2, 2), (2, 2), (2, 2), (2, 2), (2, 2), (2, 2), (0, 0), (2, 2), (0, 0), (2, 2), (0, 0), (2, 2), (2, 2), (2, 2), (2, 2), (0, 0), (2, 2), (2, 2), (2, 2), (2, 2), (2, 2), (2, 2), (2, 2), (2, 2), (2, 2), (1, 1), (2, 2), (2, 2), (2, 2), (2, 2), (2, 2), (0, 0), (0, 0), (2, 2), (2, 2), (2, 2), (0, 1), (2, 2), (2, 2), (2, 2), (2, 2), (2, 2), (0, 0), (2, 2), (0, 0), (2, 2), (2, 2), (0, 0), (2, 2), (0, 0), (2, 2), (2, 2), (2, 2), (3, 3), (2, 2), (0, 0)]\n"
     ]
    }
   ],
   "source": [
    "print(list(zip(Y_test, Y_pred)))"
   ]
  },
  {
   "cell_type": "markdown",
   "metadata": {},
   "source": [
    "### Evaluating the AdaBoostClassifier model."
   ]
  },
  {
   "cell_type": "code",
   "execution_count": 84,
   "metadata": {},
   "outputs": [
    {
     "name": "stdout",
     "output_type": "stream",
     "text": [
      "Confusion_matrix = \n",
      "[[ 99   2   1   0]\n",
      " [  4  17   0   0]\n",
      " [  0   0 371   0]\n",
      " [  1   0   0  24]] \n",
      "\n",
      "Accuracy Score =  0.9845857418111753 \n",
      "\n",
      "Classification Report = \n",
      "              precision    recall  f1-score   support\n",
      "\n",
      "           0       0.95      0.97      0.96       102\n",
      "           1       0.89      0.81      0.85        21\n",
      "           2       1.00      1.00      1.00       371\n",
      "           3       1.00      0.96      0.98        25\n",
      "\n",
      "    accuracy                           0.98       519\n",
      "   macro avg       0.96      0.94      0.95       519\n",
      "weighted avg       0.98      0.98      0.98       519\n",
      "\n"
     ]
    }
   ],
   "source": [
    "from sklearn.metrics import confusion_matrix, accuracy_score, classification_report\n",
    "\n",
    "print(\"Confusion_matrix = \")\n",
    "print(confusion_matrix(Y_test, Y_pred), \"\\n\")\n",
    "print(\"Accuracy Score = \", accuracy_score(Y_test, Y_pred), \"\\n\")\n",
    "print(\"Classification Report = \")\n",
    "print(classification_report(Y_test, Y_pred))"
   ]
  },
  {
   "cell_type": "code",
   "execution_count": 85,
   "metadata": {},
   "outputs": [],
   "source": [
    "# Thus from above four classifier we can see that accuracy for all these model is :\n",
    "# 1) Basic ExtraTreesClassifier  = 94.41 %\n",
    "# 2) Tunned ExtraTreesClassifier = 98.45 %\n",
    "# 3) RandomForestClassifier      = 98.26 %\n",
    "# 4) AdaBoostClassifier          = 98.45 %"
   ]
  },
  {
   "cell_type": "markdown",
   "metadata": {},
   "source": [
    "### 2) Building GradientBoosingClassifier model."
   ]
  },
  {
   "cell_type": "code",
   "execution_count": 86,
   "metadata": {},
   "outputs": [],
   "source": [
    "from sklearn.ensemble import GradientBoostingClassifier\n",
    "\n",
    "# Build the model\n",
    "model_gradient = GradientBoostingClassifier(n_estimators = 150, random_state = 10)\n",
    "\n",
    "# train the model\n",
    "model_gradient.fit(X_train, Y_train)\n",
    "\n",
    "# Predict using the model\n",
    "Y_pred = model_gradient.predict(X_test)"
   ]
  },
  {
   "cell_type": "code",
   "execution_count": 87,
   "metadata": {},
   "outputs": [
    {
     "name": "stdout",
     "output_type": "stream",
     "text": [
      "[(2, 2), (2, 2), (2, 2), (2, 2), (1, 1), (2, 2), (0, 0), (0, 0), (2, 2), (0, 0), (2, 2), (2, 2), (2, 2), (2, 2), (0, 0), (0, 0), (2, 2), (2, 2), (2, 2), (2, 2), (2, 2), (2, 2), (2, 2), (2, 2), (2, 2), (2, 2), (2, 2), (0, 0), (2, 2), (2, 2), (2, 2), (2, 2), (2, 2), (0, 0), (2, 2), (2, 2), (2, 2), (2, 2), (2, 2), (0, 0), (2, 2), (2, 2), (2, 2), (3, 3), (2, 2), (0, 0), (2, 2), (2, 2), (2, 2), (2, 2), (2, 2), (0, 0), (1, 1), (3, 3), (1, 1), (2, 2), (0, 0), (2, 2), (0, 0), (2, 2), (2, 2), (2, 2), (2, 2), (3, 3), (2, 2), (2, 2), (0, 0), (0, 0), (2, 2), (2, 2), (3, 3), (2, 2), (2, 2), (2, 2), (1, 1), (2, 2), (0, 0), (3, 3), (2, 2), (2, 2), (2, 2), (2, 2), (2, 2), (2, 2), (2, 2), (2, 2), (2, 2), (0, 0), (2, 2), (0, 0), (2, 2), (2, 2), (2, 2), (2, 2), (2, 2), (2, 2), (2, 2), (2, 2), (2, 2), (2, 2), (2, 2), (2, 2), (2, 2), (2, 2), (0, 0), (2, 2), (2, 2), (2, 2), (2, 2), (2, 2), (2, 2), (2, 2), (2, 2), (2, 2), (0, 0), (2, 2), (2, 2), (1, 1), (2, 2), (2, 2), (2, 2), (2, 2), (2, 2), (2, 2), (0, 0), (2, 2), (2, 2), (2, 2), (2, 2), (2, 2), (2, 2), (2, 2), (2, 2), (2, 2), (0, 0), (2, 2), (2, 2), (3, 3), (2, 2), (2, 2), (0, 0), (2, 2), (0, 0), (3, 3), (2, 2), (2, 2), (2, 2), (2, 2), (2, 2), (2, 2), (2, 2), (2, 2), (3, 3), (2, 2), (2, 2), (2, 2), (2, 2), (2, 2), (1, 1), (1, 1), (2, 2), (0, 0), (2, 2), (2, 2), (2, 2), (2, 2), (2, 2), (2, 2), (2, 2), (2, 2), (2, 2), (1, 1), (2, 2), (3, 3), (2, 2), (2, 2), (2, 2), (2, 2), (0, 0), (0, 0), (2, 2), (2, 2), (2, 2), (2, 2), (3, 3), (2, 2), (0, 0), (2, 2), (1, 1), (0, 0), (2, 2), (2, 2), (2, 2), (2, 2), (0, 0), (3, 3), (0, 0), (0, 0), (2, 2), (2, 2), (2, 2), (2, 2), (0, 0), (2, 2), (2, 2), (2, 2), (2, 2), (2, 2), (2, 2), (2, 2), (3, 3), (0, 0), (2, 2), (2, 2), (2, 2), (3, 3), (2, 2), (2, 2), (1, 1), (2, 2), (2, 2), (2, 2), (2, 2), (2, 2), (2, 2), (2, 2), (0, 0), (2, 2), (2, 2), (2, 2), (2, 2), (2, 2), (0, 0), (0, 0), (2, 2), (2, 2), (2, 2), (2, 2), (3, 3), (2, 2), (2, 2), (0, 0), (2, 2), (0, 0), (2, 2), (0, 0), (2, 2), (2, 2), (2, 2), (2, 2), (2, 2), (0, 0), (2, 2), (2, 2), (2, 2), (0, 0), (2, 2), (2, 2), (0, 0), (2, 2), (2, 2), (2, 2), (0, 0), (2, 2), (2, 2), (2, 2), (0, 0), (2, 2), (2, 2), (0, 0), (2, 2), (2, 2), (2, 2), (1, 1), (1, 1), (2, 2), (2, 2), (2, 2), (0, 0), (0, 0), (2, 2), (0, 0), (3, 3), (3, 3), (0, 0), (2, 2), (0, 0), (2, 2), (2, 2), (2, 2), (3, 3), (2, 2), (2, 2), (0, 0), (2, 2), (2, 2), (2, 2), (2, 2), (2, 2), (0, 0), (2, 2), (2, 2), (2, 2), (3, 3), (2, 2), (2, 2), (2, 2), (0, 0), (2, 2), (2, 2), (2, 2), (2, 2), (0, 0), (0, 0), (2, 2), (2, 2), (1, 1), (2, 2), (2, 2), (2, 2), (0, 0), (2, 2), (2, 2), (0, 0), (0, 0), (2, 2), (0, 0), (0, 0), (2, 2), (2, 2), (0, 0), (0, 0), (2, 2), (2, 2), (2, 2), (2, 2), (2, 2), (0, 0), (2, 2), (2, 2), (2, 2), (0, 0), (2, 2), (2, 2), (2, 2), (2, 2), (2, 2), (2, 2), (2, 2), (2, 2), (1, 1), (3, 3), (3, 3), (2, 2), (2, 2), (2, 2), (2, 2), (0, 0), (2, 2), (2, 2), (2, 2), (3, 3), (2, 2), (2, 2), (1, 1), (2, 2), (1, 1), (2, 2), (2, 2), (2, 2), (0, 0), (0, 0), (2, 2), (2, 2), (2, 2), (2, 2), (2, 2), (2, 2), (2, 2), (0, 0), (2, 2), (0, 0), (1, 1), (2, 2), (2, 2), (2, 2), (2, 2), (2, 2), (0, 0), (2, 2), (2, 2), (3, 3), (0, 0), (0, 0), (0, 0), (0, 0), (2, 2), (0, 1), (2, 2), (2, 2), (2, 2), (0, 0), (0, 0), (2, 2), (0, 0), (2, 2), (1, 1), (0, 0), (2, 2), (2, 2), (0, 0), (2, 2), (2, 2), (2, 2), (0, 0), (1, 1), (2, 2), (0, 0), (0, 0), (2, 2), (0, 0), (2, 2), (2, 2), (2, 2), (2, 2), (2, 2), (2, 2), (2, 2), (2, 2), (2, 2), (2, 2), (2, 2), (2, 2), (0, 0), (2, 2), (2, 2), (3, 3), (2, 2), (2, 2), (2, 2), (2, 2), (0, 0), (2, 2), (2, 2), (2, 2), (0, 0), (2, 2), (2, 2), (2, 2), (0, 0), (2, 2), (2, 2), (2, 2), (0, 0), (2, 2), (2, 2), (0, 0), (3, 3), (2, 2), (2, 2), (2, 2), (2, 2), (1, 1), (2, 2), (2, 2), (2, 2), (2, 2), (2, 2), (2, 2), (0, 0), (2, 2), (0, 0), (2, 2), (0, 0), (2, 2), (2, 2), (2, 2), (2, 2), (0, 0), (2, 2), (2, 2), (2, 2), (2, 2), (2, 2), (2, 2), (2, 2), (2, 2), (2, 2), (1, 1), (2, 2), (2, 2), (2, 2), (2, 2), (2, 2), (0, 0), (0, 0), (2, 2), (2, 2), (2, 2), (0, 0), (2, 2), (2, 2), (2, 2), (2, 2), (2, 2), (0, 0), (2, 2), (0, 0), (2, 2), (2, 2), (0, 0), (2, 2), (0, 0), (2, 2), (2, 2), (2, 2), (3, 3), (2, 2), (0, 0)]\n"
     ]
    }
   ],
   "source": [
    "print(list(zip(Y_test, Y_pred)))"
   ]
  },
  {
   "cell_type": "markdown",
   "metadata": {},
   "source": [
    "### Evaluating GradientBoostingClassifier"
   ]
  },
  {
   "cell_type": "code",
   "execution_count": 88,
   "metadata": {},
   "outputs": [
    {
     "name": "stdout",
     "output_type": "stream",
     "text": [
      "Confusion Matrix = \n",
      "[[101   1   0   0]\n",
      " [  0  21   0   0]\n",
      " [  0   0 371   0]\n",
      " [  0   0   0  25]] \n",
      "\n",
      "Accuracy Score =  0.9980732177263969 \n",
      "\n",
      "Classification Report = \n",
      "              precision    recall  f1-score   support\n",
      "\n",
      "           0       1.00      0.99      1.00       102\n",
      "           1       0.95      1.00      0.98        21\n",
      "           2       1.00      1.00      1.00       371\n",
      "           3       1.00      1.00      1.00        25\n",
      "\n",
      "    accuracy                           1.00       519\n",
      "   macro avg       0.99      1.00      0.99       519\n",
      "weighted avg       1.00      1.00      1.00       519\n",
      "\n"
     ]
    }
   ],
   "source": [
    "from sklearn.metrics import confusion_matrix, accuracy_score, classification_report\n",
    "\n",
    "print(\"Confusion Matrix = \")\n",
    "print(confusion_matrix(Y_test, Y_pred), \"\\n\")\n",
    "print(\"Accuracy Score = \", accuracy_score(Y_test, Y_pred), \"\\n\")\n",
    "print(\"Classification Report = \")\n",
    "print(classification_report(Y_test, Y_pred))"
   ]
  },
  {
   "cell_type": "code",
   "execution_count": 90,
   "metadata": {},
   "outputs": [],
   "source": [
    "# Thus from above five classifier we can see that accuracy for all these model is :\n",
    "# 1) Basic ExtraTreesClassifier  = 94.41 %\n",
    "# 2) Tunned ExtraTreesClassifier = 98.45 %\n",
    "# 3) RandomForestClassifier      = 98.26 %\n",
    "# 4) AdaBoostClassifier          = 98.45 %\n",
    "# 5) GradientBoostingClassifier  = 99.80 %\n",
    "\n",
    "# List of Accuracy Score for all the models:\n",
    "# 1) Basic Decision Tree            = 99.22 %\n",
    "# 2) Tunned Decision Tree           = 94.21 %\n",
    "# 3) Basic SVM                      = 85.54 %\n",
    "# 4) Tunned SVM                     = 99.61 %\n",
    "# 5) KNN                            = 94.79 %\n",
    "# 6) Logistic Regression            = 69.55 %   "
   ]
  },
  {
   "cell_type": "markdown",
   "metadata": {},
   "source": [
    "## Ensemble Modelling."
   ]
  },
  {
   "cell_type": "markdown",
   "metadata": {},
   "source": [
    "### Building the Basic Ensemble Model."
   ]
  },
  {
   "cell_type": "code",
   "execution_count": 91,
   "metadata": {},
   "outputs": [],
   "source": [
    "from sklearn.linear_model import LogisticRegression\n",
    "from sklearn.tree import DecisionTreeClassifier\n",
    "from sklearn.svm import SVC\n",
    "from sklearn.neighbors import KNeighborsClassifier\n",
    "from sklearn.ensemble import VotingClassifier\n",
    "\n",
    "# Build all the sub Models.\n",
    "estimators = []\n",
    "model_1 = LogisticRegression()\n",
    "estimators.append((\"Logistic\", model_1))\n",
    "model_2 = DecisionTreeClassifier(criterion = \"gini\", random_state = 10)\n",
    "estimators.append((\"DecisionTree\", model_2))\n",
    "model_3 = SVC(kernel = \"rbf\", gamma = 0.1, C = 50)\n",
    "estimators.append((\"SVM\", model_3))\n",
    "model_4 = KNeighborsClassifier(n_neighbors = 8 , metric = \"euclidean\")\n",
    "estimators.append((\"KNeighbors\", model_4))\n",
    "\n",
    "# Note:\n",
    "# Here above we have considered the optimum model of a perticular type.\n",
    "# i.e. for e.g in decision tree basic decision tree gives better accuracy than tunned decision tree\n",
    "# thus we included only the basic decision tree model\n",
    "# and in case of SVM the tunned model gives far better accuracy than the basic model\n",
    "# thus we include only the tunned SVM model.\n",
    "\n",
    "# Train all the models.\n",
    "ensemble = VotingClassifier(estimators)\n",
    "ensemble.fit(X_train, Y_train)\n",
    "\n",
    "# Predict using the model\n",
    "Y_pred = ensemble.predict(X_test)"
   ]
  },
  {
   "cell_type": "markdown",
   "metadata": {},
   "source": [
    "### Evaluating the Basic Ensemble Model."
   ]
  },
  {
   "cell_type": "code",
   "execution_count": 92,
   "metadata": {},
   "outputs": [
    {
     "name": "stdout",
     "output_type": "stream",
     "text": [
      "Confusion Matrix = \n",
      "[[101   1   0   0]\n",
      " [  4  17   0   0]\n",
      " [  1   0 370   0]\n",
      " [  2   0   0  23]] \n",
      "\n",
      "Accuracy Score =  0.9845857418111753 \n",
      "\n",
      "Classification Report = \n",
      "              precision    recall  f1-score   support\n",
      "\n",
      "           0       0.94      0.99      0.96       102\n",
      "           1       0.94      0.81      0.87        21\n",
      "           2       1.00      1.00      1.00       371\n",
      "           3       1.00      0.92      0.96        25\n",
      "\n",
      "    accuracy                           0.98       519\n",
      "   macro avg       0.97      0.93      0.95       519\n",
      "weighted avg       0.99      0.98      0.98       519\n",
      "\n"
     ]
    }
   ],
   "source": [
    "from sklearn.metrics import confusion_matrix, accuracy_score, classification_report\n",
    "\n",
    "print(\"Confusion Matrix = \")\n",
    "print(confusion_matrix(Y_test, Y_pred), \"\\n\")\n",
    "print(\"Accuracy Score = \", accuracy_score(Y_test, Y_pred), \"\\n\")\n",
    "print(\"Classification Report = \")\n",
    "print(classification_report(Y_test, Y_pred))"
   ]
  },
  {
   "cell_type": "code",
   "execution_count": 93,
   "metadata": {},
   "outputs": [],
   "source": [
    "# Thus from above we find that if we include all the 4 models into ensemble model it gives\n",
    "# accuracy = 98.45 %"
   ]
  },
  {
   "cell_type": "code",
   "execution_count": 94,
   "metadata": {},
   "outputs": [],
   "source": [
    "# Now if we repeat the same procedure but remove the worst model out of those 4.\n",
    "# i.e. if we remove Logistic Regression which has accuracy = 69.55 % \n",
    "# then we will check if the accuracy of ensembled model increases or decreases?"
   ]
  },
  {
   "cell_type": "markdown",
   "metadata": {},
   "source": [
    "### Ensembled model by removing LogisticRegression."
   ]
  },
  {
   "cell_type": "code",
   "execution_count": 95,
   "metadata": {},
   "outputs": [],
   "source": [
    "from sklearn.linear_model import LogisticRegression\n",
    "from sklearn.tree import DecisionTreeClassifier\n",
    "from sklearn.svm import SVC\n",
    "from sklearn.neighbors import KNeighborsClassifier\n",
    "from sklearn.ensemble import VotingClassifier\n",
    "\n",
    "# Build all the sub Models.\n",
    "estimators = []\n",
    "#model_1 = LogisticRegression()               # i.e. we have removed the LogisticRegression.\n",
    "#estimators.append((\"Logistic\", model_1))\n",
    "model_2 = DecisionTreeClassifier(criterion = \"gini\", random_state = 10)\n",
    "estimators.append((\"DecisionTree\", model_2))\n",
    "model_3 = SVC(kernel = \"rbf\", gamma = 0.1, C = 50)\n",
    "estimators.append((\"SVM\", model_3))\n",
    "model_4 = KNeighborsClassifier(n_neighbors = 8 , metric = \"euclidean\")\n",
    "estimators.append((\"KNeighbors\", model_4))\n",
    "\n",
    "# Note:\n",
    "# Here above we have considered the optimum model of a perticular type.\n",
    "# i.e. for e.g in decision tree basic decision tree gives better accuracy than tunned decision tree\n",
    "# thus we included only the basic decision tree model\n",
    "# and in case of SVM the tunned model gives far better accuracy than the basic model\n",
    "# thus we include only the tunned SVM model.\n",
    "\n",
    "# Train all the models.\n",
    "ensemble = VotingClassifier(estimators)\n",
    "ensemble.fit(X_train, Y_train)\n",
    "\n",
    "# Predict using the model\n",
    "Y_pred = ensemble.predict(X_test)"
   ]
  },
  {
   "cell_type": "code",
   "execution_count": 96,
   "metadata": {},
   "outputs": [
    {
     "name": "stdout",
     "output_type": "stream",
     "text": [
      "Confusion Matrix = \n",
      "[[101   1   0   0]\n",
      " [  2  19   0   0]\n",
      " [  0   0 371   0]\n",
      " [  1   0   0  24]] \n",
      "\n",
      "Accuracy Score =  0.9922928709055877 \n",
      "\n",
      "Classification Report = \n",
      "              precision    recall  f1-score   support\n",
      "\n",
      "           0       0.97      0.99      0.98       102\n",
      "           1       0.95      0.90      0.93        21\n",
      "           2       1.00      1.00      1.00       371\n",
      "           3       1.00      0.96      0.98        25\n",
      "\n",
      "    accuracy                           0.99       519\n",
      "   macro avg       0.98      0.96      0.97       519\n",
      "weighted avg       0.99      0.99      0.99       519\n",
      "\n"
     ]
    }
   ],
   "source": [
    "from sklearn.metrics import confusion_matrix, accuracy_score, classification_report\n",
    "\n",
    "print(\"Confusion Matrix = \")\n",
    "print(confusion_matrix(Y_test, Y_pred), \"\\n\")\n",
    "print(\"Accuracy Score = \", accuracy_score(Y_test, Y_pred), \"\\n\")\n",
    "print(\"Classification Report = \")\n",
    "print(classification_report(Y_test, Y_pred))"
   ]
  },
  {
   "cell_type": "code",
   "execution_count": 97,
   "metadata": {},
   "outputs": [],
   "source": [
    "# Now from above we can say that by removing the logistic Regression \n",
    "# ensembled model's accuracy increased to 99.22 % from previous 98.45 %."
   ]
  },
  {
   "cell_type": "code",
   "execution_count": 98,
   "metadata": {},
   "outputs": [],
   "source": [
    "# now if we remove KNN which is the second worst model out of those 4 model."
   ]
  },
  {
   "cell_type": "markdown",
   "metadata": {},
   "source": [
    "### Ensemble model by removing LogisticRegression & KNN."
   ]
  },
  {
   "cell_type": "code",
   "execution_count": 99,
   "metadata": {},
   "outputs": [],
   "source": [
    "from sklearn.linear_model import LogisticRegression\n",
    "from sklearn.tree import DecisionTreeClassifier\n",
    "from sklearn.svm import SVC\n",
    "from sklearn.neighbors import KNeighborsClassifier\n",
    "from sklearn.ensemble import VotingClassifier\n",
    "\n",
    "# Build all the sub Models.\n",
    "estimators = []\n",
    "#model_1 = LogisticRegression()               # i.e. we have removed the LogisticRegression.\n",
    "#estimators.append((\"Logistic\", model_1))\n",
    "model_2 = DecisionTreeClassifier(criterion = \"gini\", random_state = 10)\n",
    "estimators.append((\"DecisionTree\", model_2))\n",
    "model_3 = SVC(kernel = \"rbf\", gamma = 0.1, C = 50)\n",
    "estimators.append((\"SVM\", model_3))\n",
    "#model_4 = KNeighborsClassifier(n_neighbors = 8 , metric = \"euclidean\")  # i.e. we have removed KNN.\n",
    "#estimators.append((\"KNeighbors\", model_4))\n",
    "\n",
    "# Note:\n",
    "# Here above we have considered the optimum model of a perticular type.\n",
    "# i.e. for e.g in decision tree basic decision tree gives better accuracy than tunned decision tree\n",
    "# thus we included only the basic decision tree model\n",
    "# and in case of SVM the tunned model gives far better accuracy than the basic model\n",
    "# thus we include only the tunned SVM model.\n",
    "\n",
    "# Train all the models.\n",
    "ensemble = VotingClassifier(estimators)\n",
    "ensemble.fit(X_train, Y_train)\n",
    "\n",
    "# Predict using the model\n",
    "Y_pred = ensemble.predict(X_test)"
   ]
  },
  {
   "cell_type": "code",
   "execution_count": 100,
   "metadata": {},
   "outputs": [
    {
     "name": "stdout",
     "output_type": "stream",
     "text": [
      "Confusion Matrix = \n",
      "[[102   0   0   0]\n",
      " [  2  19   0   0]\n",
      " [  0   0 371   0]\n",
      " [  1   0   0  24]] \n",
      "\n",
      "Accuracy Score =  0.9942196531791907 \n",
      "\n",
      "Classification Report = \n",
      "              precision    recall  f1-score   support\n",
      "\n",
      "           0       0.97      1.00      0.99       102\n",
      "           1       1.00      0.90      0.95        21\n",
      "           2       1.00      1.00      1.00       371\n",
      "           3       1.00      0.96      0.98        25\n",
      "\n",
      "    accuracy                           0.99       519\n",
      "   macro avg       0.99      0.97      0.98       519\n",
      "weighted avg       0.99      0.99      0.99       519\n",
      "\n"
     ]
    }
   ],
   "source": [
    "from sklearn.metrics import confusion_matrix, accuracy_score, classification_report\n",
    "\n",
    "print(\"Confusion Matrix = \")\n",
    "print(confusion_matrix(Y_test, Y_pred), \"\\n\")\n",
    "print(\"Accuracy Score = \", accuracy_score(Y_test, Y_pred), \"\\n\")\n",
    "print(\"Classification Report = \")\n",
    "print(classification_report(Y_test, Y_pred))"
   ]
  },
  {
   "cell_type": "code",
   "execution_count": 101,
   "metadata": {},
   "outputs": [],
   "source": [
    "# Now from above we can say that by removing the logistic Regression along with KNN\n",
    "# ensembled model's accuracy increased to 99.42 % from previous 99.22 %."
   ]
  },
  {
   "cell_type": "markdown",
   "metadata": {},
   "source": [
    "## List of Accuracy of every model created."
   ]
  },
  {
   "cell_type": "code",
   "execution_count": 102,
   "metadata": {},
   "outputs": [],
   "source": [
    "#  1) Basic Decision Tree            = 99.22 %\n",
    "#  2) Tunned Decision Tree           = 94.21 %\n",
    "#  3) Basic SVM                      = 85.54 %\n",
    "#  4) Tunned SVM                     = 99.61 %\n",
    "#  5) KNN                            = 94.79 %\n",
    "#  6) Logistic Regression            = 69.55 %   \n",
    "#  7) Basic ExtraTreesClassifier     = 94.41 %\n",
    "#  8) Tunned ExtraTreesClassifier    = 98.45 %\n",
    "#  9) RandomForestClassifier         = 98.26 %\n",
    "# 10) AdaBoostClassifier             = 98.45 %\n",
    "# 11) GradientBoostingClassifier     = 99.80 %\n",
    "# 12) Basic Ensemble Model           = 98.45 %\n",
    "# 13) Ensemble model by removing Logistic regression             = 99.22 %\n",
    "# 14) Ensemble model by removing logistic regression and KNN     = 99.42 %"
   ]
  }
 ],
 "metadata": {
  "kernelspec": {
   "display_name": "Python 3",
   "language": "python",
   "name": "python3"
  },
  "language_info": {
   "codemirror_mode": {
    "name": "ipython",
    "version": 3
   },
   "file_extension": ".py",
   "mimetype": "text/x-python",
   "name": "python",
   "nbconvert_exporter": "python",
   "pygments_lexer": "ipython3",
   "version": "3.7.6"
  }
 },
 "nbformat": 4,
 "nbformat_minor": 4
}
